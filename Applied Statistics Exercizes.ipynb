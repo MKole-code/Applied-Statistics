{
 "cells": [
  {
   "cell_type": "code",
   "execution_count": 1,
   "id": "c5640d94",
   "metadata": {},
   "outputs": [],
   "source": [
    "import pandas as pd\n",
    "import numpy as np\n",
    "import matplotlib.pyplot as plt\n",
    "from scipy import stats\n",
    "import statistics"
   ]
  },
  {
   "cell_type": "markdown",
   "id": "e6b1b3ba",
   "metadata": {},
   "source": [
    "### Упражнение 1(4)"
   ]
  },
  {
   "cell_type": "code",
   "execution_count": 2,
   "id": "341bdd38",
   "metadata": {},
   "outputs": [
    {
     "name": "stdout",
     "output_type": "stream",
     "text": [
      "Коэф. корр. Пирсона: (-0.014417796588827556, 0.6488328687528161)\n",
      "Коэф. корр. Спирмена: SpearmanrResult(correlation=-0.04756407556407556, pvalue=0.1328190163682535)\n"
     ]
    }
   ],
   "source": [
    "# Генерируем выборку X\n",
    "#X = np.random.uniform(-1,1,1000) (вариант без random.seed())\n",
    "seed = 13\n",
    "rand = np.random.RandomState(seed)\n",
    "X = rand.uniform(-1,1,1000)\n",
    "Y = X**2\n",
    "print(\"Коэф. корр. Пирсона:\", stats.pearsonr(X, Y))\n",
    "print(\"Коэф. корр. Спирмена:\", stats.spearmanr(X, Y))"
   ]
  },
  {
   "cell_type": "markdown",
   "id": "3974b5d4",
   "metadata": {},
   "source": [
    "### Упражнение 3.1\n",
    "В файле lifeline.xls содержатся 50 пар наблюдений из исследования докторов Л. Матера и М. Уилсона. В нем рассматривались следующие переменные: X — длина «линии жизни» на левой руке\n",
    "в сантиметрах (с точностью до 0.15 см) и Y — продолжительность жизни\n",
    "человека (округленная до ближайшего целого года). Изучите корреляцию X\n",
    "и Y . Верно ли, что X и Y связаны линейной регрессионной зависимостью?"
   ]
  },
  {
   "cell_type": "code",
   "execution_count": 3,
   "id": "0f694cbe",
   "metadata": {},
   "outputs": [
    {
     "data": {
      "text/html": [
       "<div>\n",
       "<style scoped>\n",
       "    .dataframe tbody tr th:only-of-type {\n",
       "        vertical-align: middle;\n",
       "    }\n",
       "\n",
       "    .dataframe tbody tr th {\n",
       "        vertical-align: top;\n",
       "    }\n",
       "\n",
       "    .dataframe thead th {\n",
       "        text-align: right;\n",
       "    }\n",
       "</style>\n",
       "<table border=\"1\" class=\"dataframe\">\n",
       "  <thead>\n",
       "    <tr style=\"text-align: right;\">\n",
       "      <th></th>\n",
       "      <th>0</th>\n",
       "      <th>1</th>\n",
       "      <th>2</th>\n",
       "      <th>3</th>\n",
       "      <th>4</th>\n",
       "      <th>5</th>\n",
       "      <th>6</th>\n",
       "      <th>7</th>\n",
       "      <th>8</th>\n",
       "      <th>9</th>\n",
       "      <th>...</th>\n",
       "      <th>40</th>\n",
       "      <th>41</th>\n",
       "      <th>42</th>\n",
       "      <th>43</th>\n",
       "      <th>44</th>\n",
       "      <th>45</th>\n",
       "      <th>46</th>\n",
       "      <th>47</th>\n",
       "      <th>48</th>\n",
       "      <th>49</th>\n",
       "    </tr>\n",
       "  </thead>\n",
       "  <tbody>\n",
       "    <tr>\n",
       "      <th>X</th>\n",
       "      <td>9.75</td>\n",
       "      <td>9.0</td>\n",
       "      <td>9.6</td>\n",
       "      <td>9.75</td>\n",
       "      <td>11.25</td>\n",
       "      <td>9.45</td>\n",
       "      <td>11.25</td>\n",
       "      <td>9.0</td>\n",
       "      <td>7.95</td>\n",
       "      <td>12.0</td>\n",
       "      <td>...</td>\n",
       "      <td>8.85</td>\n",
       "      <td>9.0</td>\n",
       "      <td>9.75</td>\n",
       "      <td>10.65</td>\n",
       "      <td>13.2</td>\n",
       "      <td>7.95</td>\n",
       "      <td>7.95</td>\n",
       "      <td>9.15</td>\n",
       "      <td>9.75</td>\n",
       "      <td>9.0</td>\n",
       "    </tr>\n",
       "    <tr>\n",
       "      <th>Y</th>\n",
       "      <td>19.00</td>\n",
       "      <td>40.0</td>\n",
       "      <td>42.0</td>\n",
       "      <td>42.00</td>\n",
       "      <td>47.00</td>\n",
       "      <td>49.00</td>\n",
       "      <td>50.00</td>\n",
       "      <td>54.0</td>\n",
       "      <td>56.00</td>\n",
       "      <td>56.0</td>\n",
       "      <td>...</td>\n",
       "      <td>77.00</td>\n",
       "      <td>80.0</td>\n",
       "      <td>82.00</td>\n",
       "      <td>82.00</td>\n",
       "      <td>82.0</td>\n",
       "      <td>83.00</td>\n",
       "      <td>86.00</td>\n",
       "      <td>88.00</td>\n",
       "      <td>88.00</td>\n",
       "      <td>94.0</td>\n",
       "    </tr>\n",
       "  </tbody>\n",
       "</table>\n",
       "<p>2 rows × 50 columns</p>\n",
       "</div>"
      ],
      "text/plain": [
       "      0     1     2      3      4      5      6     7      8     9   ...  \\\n",
       "X   9.75   9.0   9.6   9.75  11.25   9.45  11.25   9.0   7.95  12.0  ...   \n",
       "Y  19.00  40.0  42.0  42.00  47.00  49.00  50.00  54.0  56.00  56.0  ...   \n",
       "\n",
       "      40    41     42     43    44     45     46     47     48    49  \n",
       "X   8.85   9.0   9.75  10.65  13.2   7.95   7.95   9.15   9.75   9.0  \n",
       "Y  77.00  80.0  82.00  82.00  82.0  83.00  86.00  88.00  88.00  94.0  \n",
       "\n",
       "[2 rows x 50 columns]"
      ]
     },
     "execution_count": 3,
     "metadata": {},
     "output_type": "execute_result"
    }
   ],
   "source": [
    "df = pd.read_excel('lifeline.xls') \n",
    "df.T"
   ]
  },
  {
   "cell_type": "code",
   "execution_count": 4,
   "id": "6b0a8e47",
   "metadata": {},
   "outputs": [
    {
     "data": {
      "text/plain": [
       "<seaborn.axisgrid.FacetGrid at 0x1e6c48ecf10>"
      ]
     },
     "execution_count": 4,
     "metadata": {},
     "output_type": "execute_result"
    },
    {
     "data": {
      "image/png": "[encoded data removed]",
      "text/plain": [
       "<Figure size 432x288 with 1 Axes>"
      ]
     },
     "metadata": {
      "needs_background": "light"
     },
     "output_type": "display_data"
    },
    {
     "data": {
      "image/png": "[encoded data removed]",
      "text/plain": [
       "<Figure size 360x360 with 1 Axes>"
      ]
     },
     "metadata": {
      "needs_background": "light"
     },
     "output_type": "display_data"
    }
   ],
   "source": [
    "import seaborn as sb\n",
    "import seaborn as sns\n",
    "\n",
    "ax = sb.regplot(x = \"X\", y = \"Y\", ci = None, data = df)\n",
    "ax.set_title(\"Lifeline vs. Lifetime\")\n",
    "ax.set_xlabel(\"Line\")\n",
    "ax.set_ylabel(\"Time\")\n",
    "\n",
    "ax = sns.lmplot(x=\"X\", y=\"Y\", data=df)\n",
    "ax.fig.suptitle(\"Lifeline vs. Lifetime\",fontsize = 12)\n",
    "ax.set_axis_labels(x_var=\"Line\", y_var=\"Time\")"
   ]
  },
  {
   "cell_type": "code",
   "execution_count": 5,
   "id": "368e2fd4",
   "metadata": {},
   "outputs": [
    {
     "name": "stdout",
     "output_type": "stream",
     "text": [
      "Коэф. корр. Пирсона: (-0.12255365085952198, 0.3965106928959566)\n",
      "Коэф. корр. Спирмена: SpearmanrResult(correlation=-0.08601349137019551, pvalue=0.5525613938198386)\n"
     ]
    }
   ],
   "source": [
    "print(\"Коэф. корр. Пирсона:\", stats.pearsonr(df['X'], df['Y']))\n",
    "print(\"Коэф. корр. Спирмена:\", stats.spearmanr(df['X'], df['Y']))"
   ]
  },
  {
   "cell_type": "markdown",
   "id": "28b79ca1",
   "metadata": {},
   "source": [
    "#### X и Y не связаны линейной регрессионной зависимостью"
   ]
  },
  {
   "cell_type": "markdown",
   "id": "c5d06976",
   "metadata": {},
   "source": [
    "### Упражнение 3.2 "
   ]
  },
  {
   "cell_type": "code",
   "execution_count": 6,
   "id": "abc1e50b",
   "metadata": {},
   "outputs": [
    {
     "data": {
      "text/plain": [
       "(100, 1000)"
      ]
     },
     "execution_count": 6,
     "metadata": {},
     "output_type": "execute_result"
    }
   ],
   "source": [
    "import math\n",
    "seed = 13\n",
    "rand = np.random.RandomState(seed)\n",
    "X = rand.normal(0,1,(100,1000)) + math.exp(1)\n",
    "X.shape"
   ]
  },
  {
   "cell_type": "code",
   "execution_count": 7,
   "id": "ee9ab051",
   "metadata": {},
   "outputs": [
    {
     "data": {
      "text/plain": [
       "(100, 1000)"
      ]
     },
     "execution_count": 7,
     "metadata": {},
     "output_type": "execute_result"
    }
   ],
   "source": [
    "Y1 = np.apply_along_axis(lambda x: x**2 + 0.1 * rand.normal(), 1, X)\n",
    "Y1.shape"
   ]
  },
  {
   "cell_type": "code",
   "execution_count": 8,
   "id": "f3363046",
   "metadata": {},
   "outputs": [
    {
     "data": {
      "text/plain": [
       "(100, 1000)"
      ]
     },
     "execution_count": 8,
     "metadata": {},
     "output_type": "execute_result"
    }
   ],
   "source": [
    "Y2 = np.apply_along_axis(lambda x: abs(x)**0.5 + 0.1 * rand.normal(), 1, X)\n",
    "Y2.shape"
   ]
  },
  {
   "cell_type": "code",
   "execution_count": 9,
   "id": "eebcfc57",
   "metadata": {},
   "outputs": [
    {
     "data": {
      "text/plain": [
       "(100, 1000)"
      ]
     },
     "execution_count": 9,
     "metadata": {},
     "output_type": "execute_result"
    }
   ],
   "source": [
    "Y3 = np.apply_along_axis(lambda x: x*np.sin(x) + 0.1 * rand.normal(), 1, X)\n",
    "Y3.shape"
   ]
  },
  {
   "cell_type": "code",
   "execution_count": 10,
   "id": "0d7ea719",
   "metadata": {},
   "outputs": [
    {
     "data": {
      "text/plain": [
       "(100, 1000)"
      ]
     },
     "execution_count": 10,
     "metadata": {},
     "output_type": "execute_result"
    }
   ],
   "source": [
    "Y4 = np.apply_along_axis(lambda x: x**3 + 0.1 * rand.normal(), 1, X)\n",
    "Y4.shape"
   ]
  },
  {
   "cell_type": "code",
   "execution_count": 11,
   "id": "463c1330",
   "metadata": {},
   "outputs": [
    {
     "data": {
      "text/plain": [
       "(100, 1000)"
      ]
     },
     "execution_count": 11,
     "metadata": {},
     "output_type": "execute_result"
    }
   ],
   "source": [
    "Y5 = np.apply_along_axis(lambda x: x**3*np.cos(x) + 0.1 * rand.normal(), 1, X)\n",
    "Y5.shape"
   ]
  },
  {
   "cell_type": "code",
   "execution_count": 12,
   "id": "e81d455b",
   "metadata": {},
   "outputs": [
    {
     "name": "stdout",
     "output_type": "stream",
     "text": [
      "Коэф. корр. Спирмена: SpearmanrResult(correlation=0.99999945999946, pvalue=0.0)\n",
      "Коэф. корр. Кендалла: KendalltauResult(correlation=0.999963963963964, pvalue=0.0)\n"
     ]
    }
   ],
   "source": [
    "print(\"Коэф. корр. Спирмена:\", stats.spearmanr(X[0], Y1[0]))\n",
    "print(\"Коэф. корр. Кендалла:\", stats.kendalltau(X[0], Y1[0]))"
   ]
  },
  {
   "cell_type": "code",
   "execution_count": 13,
   "id": "518dfab5",
   "metadata": {},
   "outputs": [],
   "source": [
    "Spear_X_Y1 = [stats.spearmanr(i,j)[0] for i,j in zip(X,Y1)]\n",
    "Spear_X_Y2 = [stats.spearmanr(i,j)[0] for i,j in zip(X,Y2)]\n",
    "Spear_X_Y3 = [stats.spearmanr(i,j)[0] for i,j in zip(X,Y3)]\n",
    "Spear_X_Y4 = [stats.spearmanr(i,j)[0] for i,j in zip(X,Y4)]\n",
    "Spear_X_Y5 = [stats.spearmanr(i,j)[0] for i,j in zip(X,Y5)]\n",
    "\n",
    "Kend_X_Y1 = [stats.kendalltau(i,j)[0] for i,j in zip(X,Y1)]\n",
    "Kend_X_Y2 = [stats.kendalltau(i,j)[0] for i,j in zip(X,Y2)]\n",
    "Kend_X_Y3 = [stats.kendalltau(i,j)[0] for i,j in zip(X,Y3)]\n",
    "Kend_X_Y4 = [stats.kendalltau(i,j)[0] for i,j in zip(X,Y4)]\n",
    "Kend_X_Y5 = [stats.kendalltau(i,j)[0] for i,j in zip(X,Y5)]\n"
   ]
  },
  {
   "cell_type": "code",
   "execution_count": 14,
   "id": "2bac2250",
   "metadata": {},
   "outputs": [
    {
     "data": {
      "text/html": [
       "<div>\n",
       "<style scoped>\n",
       "    .dataframe tbody tr th:only-of-type {\n",
       "        vertical-align: middle;\n",
       "    }\n",
       "\n",
       "    .dataframe tbody tr th {\n",
       "        vertical-align: top;\n",
       "    }\n",
       "\n",
       "    .dataframe thead th {\n",
       "        text-align: right;\n",
       "    }\n",
       "</style>\n",
       "<table border=\"1\" class=\"dataframe\">\n",
       "  <thead>\n",
       "    <tr style=\"text-align: right;\">\n",
       "      <th></th>\n",
       "      <th>0</th>\n",
       "      <th>1</th>\n",
       "      <th>2</th>\n",
       "      <th>3</th>\n",
       "      <th>4</th>\n",
       "      <th>5</th>\n",
       "      <th>6</th>\n",
       "      <th>7</th>\n",
       "      <th>8</th>\n",
       "      <th>9</th>\n",
       "      <th>...</th>\n",
       "      <th>90</th>\n",
       "      <th>91</th>\n",
       "      <th>92</th>\n",
       "      <th>93</th>\n",
       "      <th>94</th>\n",
       "      <th>95</th>\n",
       "      <th>96</th>\n",
       "      <th>97</th>\n",
       "      <th>98</th>\n",
       "      <th>99</th>\n",
       "    </tr>\n",
       "  </thead>\n",
       "  <tbody>\n",
       "    <tr>\n",
       "      <th>index</th>\n",
       "      <td>0.000000</td>\n",
       "      <td>1.000000</td>\n",
       "      <td>2.000000</td>\n",
       "      <td>3.000000</td>\n",
       "      <td>4.000000</td>\n",
       "      <td>5.000000</td>\n",
       "      <td>6.000000</td>\n",
       "      <td>7.000000</td>\n",
       "      <td>8.000000</td>\n",
       "      <td>9.000000</td>\n",
       "      <td>...</td>\n",
       "      <td>90.000000</td>\n",
       "      <td>91.000000</td>\n",
       "      <td>92.000000</td>\n",
       "      <td>93.000000</td>\n",
       "      <td>94.000000</td>\n",
       "      <td>95.000000</td>\n",
       "      <td>96.000000</td>\n",
       "      <td>97.000000</td>\n",
       "      <td>98.000000</td>\n",
       "      <td>99.000000</td>\n",
       "    </tr>\n",
       "    <tr>\n",
       "      <th>Spear_X_Y1</th>\n",
       "      <td>0.999999</td>\n",
       "      <td>0.999997</td>\n",
       "      <td>0.999994</td>\n",
       "      <td>0.999998</td>\n",
       "      <td>1.000000</td>\n",
       "      <td>1.000000</td>\n",
       "      <td>0.999708</td>\n",
       "      <td>0.999999</td>\n",
       "      <td>1.000000</td>\n",
       "      <td>1.000000</td>\n",
       "      <td>...</td>\n",
       "      <td>0.999996</td>\n",
       "      <td>0.999973</td>\n",
       "      <td>0.999975</td>\n",
       "      <td>0.999999</td>\n",
       "      <td>0.999997</td>\n",
       "      <td>0.999997</td>\n",
       "      <td>0.999987</td>\n",
       "      <td>0.999994</td>\n",
       "      <td>1.000000</td>\n",
       "      <td>0.999999</td>\n",
       "    </tr>\n",
       "    <tr>\n",
       "      <th>Spear_X_Y2</th>\n",
       "      <td>0.999999</td>\n",
       "      <td>0.999997</td>\n",
       "      <td>0.999994</td>\n",
       "      <td>0.999998</td>\n",
       "      <td>1.000000</td>\n",
       "      <td>1.000000</td>\n",
       "      <td>0.999708</td>\n",
       "      <td>0.999999</td>\n",
       "      <td>1.000000</td>\n",
       "      <td>1.000000</td>\n",
       "      <td>...</td>\n",
       "      <td>0.999996</td>\n",
       "      <td>0.999973</td>\n",
       "      <td>0.999975</td>\n",
       "      <td>0.999999</td>\n",
       "      <td>0.999997</td>\n",
       "      <td>0.999997</td>\n",
       "      <td>0.999987</td>\n",
       "      <td>0.999994</td>\n",
       "      <td>1.000000</td>\n",
       "      <td>0.999999</td>\n",
       "    </tr>\n",
       "    <tr>\n",
       "      <th>Spear_X_Y3</th>\n",
       "      <td>-0.812756</td>\n",
       "      <td>-0.824356</td>\n",
       "      <td>-0.820461</td>\n",
       "      <td>-0.833004</td>\n",
       "      <td>-0.840827</td>\n",
       "      <td>-0.837842</td>\n",
       "      <td>-0.842761</td>\n",
       "      <td>-0.834038</td>\n",
       "      <td>-0.823173</td>\n",
       "      <td>-0.830499</td>\n",
       "      <td>...</td>\n",
       "      <td>-0.856551</td>\n",
       "      <td>-0.817469</td>\n",
       "      <td>-0.837048</td>\n",
       "      <td>-0.803407</td>\n",
       "      <td>-0.825208</td>\n",
       "      <td>-0.823881</td>\n",
       "      <td>-0.828795</td>\n",
       "      <td>-0.825960</td>\n",
       "      <td>-0.837714</td>\n",
       "      <td>-0.836190</td>\n",
       "    </tr>\n",
       "    <tr>\n",
       "      <th>Spear_X_Y4</th>\n",
       "      <td>1.000000</td>\n",
       "      <td>1.000000</td>\n",
       "      <td>1.000000</td>\n",
       "      <td>1.000000</td>\n",
       "      <td>1.000000</td>\n",
       "      <td>1.000000</td>\n",
       "      <td>1.000000</td>\n",
       "      <td>1.000000</td>\n",
       "      <td>1.000000</td>\n",
       "      <td>1.000000</td>\n",
       "      <td>...</td>\n",
       "      <td>1.000000</td>\n",
       "      <td>1.000000</td>\n",
       "      <td>1.000000</td>\n",
       "      <td>1.000000</td>\n",
       "      <td>1.000000</td>\n",
       "      <td>1.000000</td>\n",
       "      <td>1.000000</td>\n",
       "      <td>1.000000</td>\n",
       "      <td>1.000000</td>\n",
       "      <td>1.000000</td>\n",
       "    </tr>\n",
       "    <tr>\n",
       "      <th>Spear_X_Y5</th>\n",
       "      <td>-0.813290</td>\n",
       "      <td>-0.815919</td>\n",
       "      <td>-0.765785</td>\n",
       "      <td>-0.811685</td>\n",
       "      <td>-0.785363</td>\n",
       "      <td>-0.769078</td>\n",
       "      <td>-0.732617</td>\n",
       "      <td>-0.796786</td>\n",
       "      <td>-0.802889</td>\n",
       "      <td>-0.850154</td>\n",
       "      <td>...</td>\n",
       "      <td>-0.786995</td>\n",
       "      <td>-0.844459</td>\n",
       "      <td>-0.828899</td>\n",
       "      <td>-0.880737</td>\n",
       "      <td>-0.778163</td>\n",
       "      <td>-0.770841</td>\n",
       "      <td>-0.769051</td>\n",
       "      <td>-0.810741</td>\n",
       "      <td>-0.789305</td>\n",
       "      <td>-0.778837</td>\n",
       "    </tr>\n",
       "    <tr>\n",
       "      <th>Kend_X_Y1</th>\n",
       "      <td>0.999964</td>\n",
       "      <td>0.999900</td>\n",
       "      <td>0.999824</td>\n",
       "      <td>0.999912</td>\n",
       "      <td>0.999988</td>\n",
       "      <td>0.999996</td>\n",
       "      <td>0.999083</td>\n",
       "      <td>0.999936</td>\n",
       "      <td>0.999988</td>\n",
       "      <td>0.999980</td>\n",
       "      <td>...</td>\n",
       "      <td>0.999836</td>\n",
       "      <td>0.999696</td>\n",
       "      <td>0.999716</td>\n",
       "      <td>0.999932</td>\n",
       "      <td>0.999900</td>\n",
       "      <td>0.999888</td>\n",
       "      <td>0.999792</td>\n",
       "      <td>0.999848</td>\n",
       "      <td>0.999988</td>\n",
       "      <td>0.999932</td>\n",
       "    </tr>\n",
       "    <tr>\n",
       "      <th>Kend_X_Y2</th>\n",
       "      <td>0.999964</td>\n",
       "      <td>0.999900</td>\n",
       "      <td>0.999824</td>\n",
       "      <td>0.999912</td>\n",
       "      <td>0.999988</td>\n",
       "      <td>0.999996</td>\n",
       "      <td>0.999083</td>\n",
       "      <td>0.999936</td>\n",
       "      <td>0.999988</td>\n",
       "      <td>0.999980</td>\n",
       "      <td>...</td>\n",
       "      <td>0.999836</td>\n",
       "      <td>0.999696</td>\n",
       "      <td>0.999716</td>\n",
       "      <td>0.999932</td>\n",
       "      <td>0.999900</td>\n",
       "      <td>0.999888</td>\n",
       "      <td>0.999792</td>\n",
       "      <td>0.999848</td>\n",
       "      <td>0.999988</td>\n",
       "      <td>0.999932</td>\n",
       "    </tr>\n",
       "    <tr>\n",
       "      <th>Kend_X_Y3</th>\n",
       "      <td>-0.698515</td>\n",
       "      <td>-0.713401</td>\n",
       "      <td>-0.713281</td>\n",
       "      <td>-0.727680</td>\n",
       "      <td>-0.730699</td>\n",
       "      <td>-0.728825</td>\n",
       "      <td>-0.740008</td>\n",
       "      <td>-0.722511</td>\n",
       "      <td>-0.714386</td>\n",
       "      <td>-0.725682</td>\n",
       "      <td>...</td>\n",
       "      <td>-0.756829</td>\n",
       "      <td>-0.710555</td>\n",
       "      <td>-0.742302</td>\n",
       "      <td>-0.698410</td>\n",
       "      <td>-0.713233</td>\n",
       "      <td>-0.702166</td>\n",
       "      <td>-0.719451</td>\n",
       "      <td>-0.715211</td>\n",
       "      <td>-0.733113</td>\n",
       "      <td>-0.717221</td>\n",
       "    </tr>\n",
       "    <tr>\n",
       "      <th>Kend_X_Y4</th>\n",
       "      <td>1.000000</td>\n",
       "      <td>1.000000</td>\n",
       "      <td>1.000000</td>\n",
       "      <td>1.000000</td>\n",
       "      <td>1.000000</td>\n",
       "      <td>1.000000</td>\n",
       "      <td>1.000000</td>\n",
       "      <td>1.000000</td>\n",
       "      <td>1.000000</td>\n",
       "      <td>1.000000</td>\n",
       "      <td>...</td>\n",
       "      <td>1.000000</td>\n",
       "      <td>1.000000</td>\n",
       "      <td>1.000000</td>\n",
       "      <td>1.000000</td>\n",
       "      <td>1.000000</td>\n",
       "      <td>1.000000</td>\n",
       "      <td>1.000000</td>\n",
       "      <td>1.000000</td>\n",
       "      <td>1.000000</td>\n",
       "      <td>1.000000</td>\n",
       "    </tr>\n",
       "    <tr>\n",
       "      <th>Kend_X_Y5</th>\n",
       "      <td>-0.810498</td>\n",
       "      <td>-0.800140</td>\n",
       "      <td>-0.766262</td>\n",
       "      <td>-0.798975</td>\n",
       "      <td>-0.785029</td>\n",
       "      <td>-0.765886</td>\n",
       "      <td>-0.750807</td>\n",
       "      <td>-0.786362</td>\n",
       "      <td>-0.786679</td>\n",
       "      <td>-0.817926</td>\n",
       "      <td>...</td>\n",
       "      <td>-0.770643</td>\n",
       "      <td>-0.826607</td>\n",
       "      <td>-0.812525</td>\n",
       "      <td>-0.843732</td>\n",
       "      <td>-0.771411</td>\n",
       "      <td>-0.759307</td>\n",
       "      <td>-0.764569</td>\n",
       "      <td>-0.794294</td>\n",
       "      <td>-0.773429</td>\n",
       "      <td>-0.771375</td>\n",
       "    </tr>\n",
       "  </tbody>\n",
       "</table>\n",
       "<p>11 rows × 100 columns</p>\n",
       "</div>"
      ],
      "text/plain": [
       "                  0         1         2         3         4         5   \\\n",
       "index       0.000000  1.000000  2.000000  3.000000  4.000000  5.000000   \n",
       "Spear_X_Y1  0.999999  0.999997  0.999994  0.999998  1.000000  1.000000   \n",
       "Spear_X_Y2  0.999999  0.999997  0.999994  0.999998  1.000000  1.000000   \n",
       "Spear_X_Y3 -0.812756 -0.824356 -0.820461 -0.833004 -0.840827 -0.837842   \n",
       "Spear_X_Y4  1.000000  1.000000  1.000000  1.000000  1.000000  1.000000   \n",
       "Spear_X_Y5 -0.813290 -0.815919 -0.765785 -0.811685 -0.785363 -0.769078   \n",
       "Kend_X_Y1   0.999964  0.999900  0.999824  0.999912  0.999988  0.999996   \n",
       "Kend_X_Y2   0.999964  0.999900  0.999824  0.999912  0.999988  0.999996   \n",
       "Kend_X_Y3  -0.698515 -0.713401 -0.713281 -0.727680 -0.730699 -0.728825   \n",
       "Kend_X_Y4   1.000000  1.000000  1.000000  1.000000  1.000000  1.000000   \n",
       "Kend_X_Y5  -0.810498 -0.800140 -0.766262 -0.798975 -0.785029 -0.765886   \n",
       "\n",
       "                  6         7         8         9   ...         90         91  \\\n",
       "index       6.000000  7.000000  8.000000  9.000000  ...  90.000000  91.000000   \n",
       "Spear_X_Y1  0.999708  0.999999  1.000000  1.000000  ...   0.999996   0.999973   \n",
       "Spear_X_Y2  0.999708  0.999999  1.000000  1.000000  ...   0.999996   0.999973   \n",
       "Spear_X_Y3 -0.842761 -0.834038 -0.823173 -0.830499  ...  -0.856551  -0.817469   \n",
       "Spear_X_Y4  1.000000  1.000000  1.000000  1.000000  ...   1.000000   1.000000   \n",
       "Spear_X_Y5 -0.732617 -0.796786 -0.802889 -0.850154  ...  -0.786995  -0.844459   \n",
       "Kend_X_Y1   0.999083  0.999936  0.999988  0.999980  ...   0.999836   0.999696   \n",
       "Kend_X_Y2   0.999083  0.999936  0.999988  0.999980  ...   0.999836   0.999696   \n",
       "Kend_X_Y3  -0.740008 -0.722511 -0.714386 -0.725682  ...  -0.756829  -0.710555   \n",
       "Kend_X_Y4   1.000000  1.000000  1.000000  1.000000  ...   1.000000   1.000000   \n",
       "Kend_X_Y5  -0.750807 -0.786362 -0.786679 -0.817926  ...  -0.770643  -0.826607   \n",
       "\n",
       "                   92         93         94         95         96         97  \\\n",
       "index       92.000000  93.000000  94.000000  95.000000  96.000000  97.000000   \n",
       "Spear_X_Y1   0.999975   0.999999   0.999997   0.999997   0.999987   0.999994   \n",
       "Spear_X_Y2   0.999975   0.999999   0.999997   0.999997   0.999987   0.999994   \n",
       "Spear_X_Y3  -0.837048  -0.803407  -0.825208  -0.823881  -0.828795  -0.825960   \n",
       "Spear_X_Y4   1.000000   1.000000   1.000000   1.000000   1.000000   1.000000   \n",
       "Spear_X_Y5  -0.828899  -0.880737  -0.778163  -0.770841  -0.769051  -0.810741   \n",
       "Kend_X_Y1    0.999716   0.999932   0.999900   0.999888   0.999792   0.999848   \n",
       "Kend_X_Y2    0.999716   0.999932   0.999900   0.999888   0.999792   0.999848   \n",
       "Kend_X_Y3   -0.742302  -0.698410  -0.713233  -0.702166  -0.719451  -0.715211   \n",
       "Kend_X_Y4    1.000000   1.000000   1.000000   1.000000   1.000000   1.000000   \n",
       "Kend_X_Y5   -0.812525  -0.843732  -0.771411  -0.759307  -0.764569  -0.794294   \n",
       "\n",
       "                   98         99  \n",
       "index       98.000000  99.000000  \n",
       "Spear_X_Y1   1.000000   0.999999  \n",
       "Spear_X_Y2   1.000000   0.999999  \n",
       "Spear_X_Y3  -0.837714  -0.836190  \n",
       "Spear_X_Y4   1.000000   1.000000  \n",
       "Spear_X_Y5  -0.789305  -0.778837  \n",
       "Kend_X_Y1    0.999988   0.999932  \n",
       "Kend_X_Y2    0.999988   0.999932  \n",
       "Kend_X_Y3   -0.733113  -0.717221  \n",
       "Kend_X_Y4    1.000000   1.000000  \n",
       "Kend_X_Y5   -0.773429  -0.771375  \n",
       "\n",
       "[11 rows x 100 columns]"
      ]
     },
     "execution_count": 14,
     "metadata": {},
     "output_type": "execute_result"
    }
   ],
   "source": [
    "Spearman = pd.DataFrame({'Spear_X_Y1': Spear_X_Y1, 'Spear_X_Y2': Spear_X_Y2, \n",
    "                    'Spear_X_Y3': Spear_X_Y3, 'Spear_X_Y4': Spear_X_Y4, 'Spear_X_Y5': Spear_X_Y5})\n",
    "Kendall = pd.DataFrame({'Kend_X_Y1': Kend_X_Y1, 'Kend_X_Y2': Kend_X_Y2,\n",
    "                       'Kend_X_Y3': Kend_X_Y3, 'Kend_X_Y4': Kend_X_Y4, 'Kend_X_Y5': Kend_X_Y5})\n",
    "concatenated = Spearman.reset_index().merge(Kendall.reset_index(), left_index=False, right_index=False, how='left').reset_index(drop=True)\n",
    "\n",
    "concatenated.T"
   ]
  },
  {
   "cell_type": "code",
   "execution_count": 15,
   "id": "b23e9052",
   "metadata": {},
   "outputs": [
    {
     "data": {
      "image/png": "[encoded data removed]",
      "text/plain": [
       "<Figure size 720x576 with 1 Axes>"
      ]
     },
     "metadata": {
      "needs_background": "light"
     },
     "output_type": "display_data"
    }
   ],
   "source": [
    "x = [Spear_X_Y1, Spear_X_Y2, Spear_X_Y3, Spear_X_Y4, Spear_X_Y5]\n",
    "y = [Kend_X_Y1, Kend_X_Y2, Kend_X_Y3, Kend_X_Y4, Kend_X_Y5]\n",
    "fig, ax = plt.subplots(1, 1, figsize=(10, 8))\n",
    "plt.scatter(x=x, y=y)\n",
    "plt.ylabel('Kendall')\n",
    "plt.xlabel('Spearman')\n",
    "plt.title('Comparison: Spearman vs Kendall')\n",
    "plt.show()"
   ]
  },
  {
   "cell_type": "markdown",
   "id": "9a75f00a",
   "metadata": {},
   "source": [
    "Вывод: коэффициенты Спирмена и Кендалла показывают очень близкие или идентичные результаты на рассмотренных выборках. Но видно, что значения коэффициента Спирмена иногда немного больше, чем значения коэффициента ранговой корреляции Кендалла."
   ]
  },
  {
   "cell_type": "markdown",
   "id": "68af875c",
   "metadata": {},
   "source": [
    "### Упражнение 4. Проект в закрытой формулировке.\n"
   ]
  },
  {
   "cell_type": "code",
   "execution_count": 16,
   "id": "17572f1e",
   "metadata": {},
   "outputs": [],
   "source": [
    "import numpy as np\n",
    "import seaborn as sns\n",
    "import scipy\n",
    "from scipy.stats import norm, probplot, rankdata\n",
    "from matplotlib import pyplot as plt\n",
    "from matplotlib.axes import Axes\n",
    "from typing import Tuple, Dict, Optional, Set, List\n",
    "import os"
   ]
  },
  {
   "cell_type": "code",
   "execution_count": 17,
   "id": "df2c4333",
   "metadata": {},
   "outputs": [
    {
     "data": {
      "text/plain": [
       "Text(0.5, 1.0, 'Views, sigma2=1, 99%-ile = 28.0   ')"
      ]
     },
     "execution_count": 17,
     "metadata": {},
     "output_type": "execute_result"
    },
    {
     "data": {
      "image/png": "[encoded data removed]",
      "text/plain": [
       "<Figure size 432x288 with 1 Axes>"
      ]
     },
     "metadata": {
      "needs_background": "light"
     },
     "output_type": "display_data"
    }
   ],
   "source": [
    "# Посмотрим на гистограмму views при  sigma2=1  - будем использовать в дальнейшем для оптимального распределения\n",
    "mu = 1\n",
    "sigma2 = 1\n",
    "N = 5000\n",
    "experiments = 1000\n",
    "views_A = np.absolute(np.exp(norm(mu, sigma2).rvs(\n",
    "    experiments * N)).astype(np.int32).reshape(experiments, N) + 1)\n",
    "fig = plt.figure()\n",
    "ax_views = fig.add_subplot()\n",
    "views_distr = sns.histplot(views_A.ravel(),  # Теперь это массив длины experiments * N\n",
    "                           bins=range(0, 30),\n",
    "                           kde=False,\n",
    "                           ax=ax_views,\n",
    "                           stat='probability')\n",
    "ax_views.set_xlim((0, 30))\n",
    "views_99_percentile = np.percentile(views_A.ravel(), 99)\n",
    "ax_views.set_title(f'Views, sigma2=1, 99%-ile = {views_99_percentile:<7.1f}')"
   ]
  },
  {
   "cell_type": "code",
   "execution_count": 18,
   "id": "643d8935",
   "metadata": {},
   "outputs": [
    {
     "data": {
      "text/plain": [
       "Text(0.5, 1.0, 'Views (sigma2=0.1, 99%-ile = 4.0    ')"
      ]
     },
     "execution_count": 18,
     "metadata": {},
     "output_type": "execute_result"
    },
    {
     "data": {
      "image/png": "[encoded data removed]",
      "text/plain": [
       "<Figure size 432x288 with 1 Axes>"
      ]
     },
     "metadata": {
      "needs_background": "light"
     },
     "output_type": "display_data"
    }
   ],
   "source": [
    "# Посмотрим на гистограмму views при sigma2=0.1 - будем использовать в дальнейшем для \"скошенного\" распределения\n",
    "mu = 1\n",
    "sigma2_01 = 0.1\n",
    "N = 5000\n",
    "experiments = 1000\n",
    "views_A_si_01 = np.absolute(np.exp(norm(mu, sigma2_01).rvs(\n",
    "    experiments * N)).astype(np.int32).reshape(experiments, N) + 1)\n",
    "fig = plt.figure()\n",
    "ax_views = fig.add_subplot()\n",
    "views_distr = sns.histplot(views_A_si_01.ravel(),  # Теперь это массив длины experiments * N\n",
    "                           bins=range(0, 30),\n",
    "                           kde=False,\n",
    "                           ax=ax_views,\n",
    "                           stat='probability')\n",
    "ax_views.set_xlim((0, 30))\n",
    "views_99_percentile = np.percentile(views_A_si_01.ravel(), 99)\n",
    "ax_views.set_title(f'Views (sigma2=0.1, 99%-ile = {views_99_percentile:<7.1f}')"
   ]
  },
  {
   "cell_type": "code",
   "execution_count": 19,
   "id": "73e1f064",
   "metadata": {},
   "outputs": [
    {
     "data": {
      "text/plain": [
       "Text(0.5, 1.0, 'Success rate, beta=1000, std = 0.005')"
      ]
     },
     "execution_count": 19,
     "metadata": {},
     "output_type": "execute_result"
    },
    {
     "data": {
      "image/png": "[encoded data removed]",
      "text/plain": [
       "<Figure size 432x288 with 1 Axes>"
      ]
     },
     "metadata": {
      "needs_background": "light"
     },
     "output_type": "display_data"
    }
   ],
   "source": [
    "# Посмотрим, как выглядит success_rate_A при beta = 1000 - будем использовать в дальнейшем для оптимального распределения\n",
    "success_rate = 0.03\n",
    "beta = 1000\n",
    "alpha = success_rate * beta / (1 - success_rate)\n",
    "\n",
    "success_rate_A = scipy.stats.beta(alpha, beta).rvs(\n",
    "    experiments * N).reshape(experiments, N)\n",
    "success_rate_A.shape\n",
    "fig = plt.figure()\n",
    "ax_ctr = fig.add_subplot()\n",
    "sns.histplot(success_rate_A.ravel(),\n",
    "             bins=np.linspace(0, 0.2, 100),\n",
    "             ax=ax_ctr,\n",
    "             kde=False,\n",
    "             stat='probability')\n",
    "ax_ctr.set_xlim((0, 0.1))\n",
    "success_rate_std = success_rate_A[:10].flatten().std()\n",
    "ax_ctr.set_title(f'Success rate, beta=1000, std = {success_rate_std:2.3f}')"
   ]
  },
  {
   "cell_type": "code",
   "execution_count": 20,
   "id": "f3a71a92",
   "metadata": {},
   "outputs": [
    {
     "data": {
      "text/plain": [
       "Text(0.5, 1.0, 'Success rate (beta=10), std = 0.005')"
      ]
     },
     "execution_count": 20,
     "metadata": {},
     "output_type": "execute_result"
    },
    {
     "data": {
      "image/png": "[encoded data removed]",
      "text/plain": [
       "<Figure size 432x288 with 1 Axes>"
      ]
     },
     "metadata": {
      "needs_background": "light"
     },
     "output_type": "display_data"
    }
   ],
   "source": [
    "# Посмотрим, как выглядит success_rate_A при beta = 10 - будем использовать в дальнейшем для \"скошенного\" распределения \n",
    "success_rate = 0.03\n",
    "beta_10 = 10\n",
    "alpha = success_rate * beta_10 / (1 - success_rate)\n",
    "\n",
    "success_rate_A_10 = scipy.stats.beta(alpha, beta_10).rvs(\n",
    "    experiments * N).reshape(experiments, N)\n",
    "fig = plt.figure()\n",
    "ax_ctr = fig.add_subplot()\n",
    "sns.histplot(success_rate_A_10.ravel(),\n",
    "             bins=np.linspace(0, 0.2, 100),\n",
    "             ax=ax_ctr,\n",
    "             kde=False,\n",
    "             stat='probability')\n",
    "ax_ctr.set_xlim((0, 0.1))\n",
    "success_rate_10_std = success_rate_A_10[:10].flatten().std()\n",
    "ax_ctr.set_title(f'Success rate (beta=10), std = {success_rate_std:2.3f}')"
   ]
  },
  {
   "cell_type": "code",
   "execution_count": 21,
   "id": "04451e43",
   "metadata": {},
   "outputs": [
    {
     "data": {
      "text/plain": [
       "20"
      ]
     },
     "execution_count": 21,
     "metadata": {},
     "output_type": "execute_result"
    }
   ],
   "source": [
    "# Клики группы А\n",
    "clicks_A = scipy.stats.binom.rvs(views_A, success_rate_A)\n",
    "\n",
    "# Сколько кликов было максимум\n",
    "clicks_A.max()\n"
   ]
  },
  {
   "cell_type": "code",
   "execution_count": 22,
   "id": "bc2d4cd5",
   "metadata": {},
   "outputs": [
    {
     "data": {
      "text/plain": [
       "(0.0, 10.0)"
      ]
     },
     "execution_count": 22,
     "metadata": {},
     "output_type": "execute_result"
    },
    {
     "data": {
      "image/png": "[encoded data removed]",
      "text/plain": [
       "<Figure size 432x288 with 1 Axes>"
      ]
     },
     "metadata": {
      "needs_background": "light"
     },
     "output_type": "display_data"
    }
   ],
   "source": [
    "fig = plt.figure()\n",
    "ax_clicks = fig.add_subplot()\n",
    "clicks_distr = sns.histplot(clicks_A.ravel(),  # Теперь это массив длины experiments * N\n",
    "                            bins=range(0, 10),\n",
    "                            kde=False,\n",
    "                            ax=ax_clicks,\n",
    "                            stat='probability')\n",
    "ax_clicks.set_xlim((0, 10))"
   ]
  },
  {
   "cell_type": "code",
   "execution_count": 23,
   "id": "1d36b1bf",
   "metadata": {},
   "outputs": [
    {
     "data": {
      "image/png": "[encoded data removed]",
      "text/plain": [
       "<Figure size 432x288 with 1 Axes>"
      ]
     },
     "metadata": {
      "needs_background": "light"
     },
     "output_type": "display_data"
    }
   ],
   "source": [
    "f = probplot(np.random.choice(clicks_A.ravel(),5000), dist=\"norm\",plot=plt)"
   ]
  },
  {
   "cell_type": "code",
   "execution_count": 24,
   "id": "801cd17a",
   "metadata": {},
   "outputs": [],
   "source": [
    "# Применяем uplift = 0.1\n",
    "uplift = 0.1\n",
    "views_B = np.absolute(np.exp(norm(mu, sigma2).rvs(experiments * N)).astype(np.int32).reshape(experiments, N) + 1)\n",
    "alpha_B = success_rate * (1 + uplift) * beta / (1 - success_rate * (1 + uplift))\n",
    "success_rate_B = scipy.stats.beta(alpha_B, beta).rvs(experiments * N).reshape(experiments, N)\n",
    "clicks_B = scipy.stats.binom(n=views_B, p=success_rate_B).rvs()\n"
   ]
  },
  {
   "cell_type": "code",
   "execution_count": 25,
   "id": "ce38c876",
   "metadata": {},
   "outputs": [
    {
     "name": "stdout",
     "output_type": "stream",
     "text": [
      "1000\n"
     ]
    },
    {
     "data": {
      "image/png": "[encoded data removed]",
      "text/plain": [
       "<Figure size 432x288 with 1 Axes>"
      ]
     },
     "metadata": {
      "needs_background": "light"
     },
     "output_type": "display_data"
    }
   ],
   "source": [
    "# Моделируем чеки в группе B\n",
    "Lambda = 0.004\n",
    "C = 1 # мне не понадобилась константа С\n",
    "lower, upper, scale = 100, 2500, 1/Lambda\n",
    "X = stats.truncexpon(b=(upper-lower)/scale, loc=lower, scale=scale)\n",
    "b_b = C * X.rvs(1000)\n",
    "\n",
    "plt.hist(b_b)\n",
    "plt.xlim(0, 5000)\n",
    "plt.xlabel('Rub.')\n",
    "plt.ylabel('Frec.')\n",
    "plt.title('Bills in Group B')\n",
    "print(len(b_b))"
   ]
  },
  {
   "cell_type": "code",
   "execution_count": 26,
   "id": "d4b4607e",
   "metadata": {},
   "outputs": [
    {
     "name": "stdout",
     "output_type": "stream",
     "text": [
      "1000\n"
     ]
    },
    {
     "data": {
      "image/png": "[encoded data removed]",
      "text/plain": [
       "<Figure size 432x288 with 1 Axes>"
      ]
     },
     "metadata": {
      "needs_background": "light"
     },
     "output_type": "display_data"
    }
   ],
   "source": [
    "# Моделируем чеки в группе A\n",
    "Lambda = 1.2*0.004\n",
    "C = 1 # мне не понадобилась константа С\n",
    "lower, upper, scale = 100, 2500, 1/Lambda\n",
    "X = stats.truncexpon(b=(upper-lower)/scale, loc=lower, scale=scale)\n",
    "b_a = C * X.rvs(1000)\n",
    "\n",
    "plt.hist(b_a)\n",
    "plt.xlim(0, 5000)\n",
    "plt.xlabel('Rub.')\n",
    "plt.ylabel('Frec.')\n",
    "plt.title('Bills in Group A')\n",
    "print(len(b_a))"
   ]
  },
  {
   "cell_type": "code",
   "execution_count": 27,
   "id": "c22537d5",
   "metadata": {},
   "outputs": [
    {
     "name": "stdout",
     "output_type": "stream",
     "text": [
      "средний чек в группе B 347.6962850478127\n",
      "средний чек в группе A 305.79367266206674\n"
     ]
    }
   ],
   "source": [
    "print(\"средний чек в группе B\", b_b.mean())\n",
    "print(\"средний чек в группе A\", b_a.mean())"
   ]
  },
  {
   "cell_type": "code",
   "execution_count": 28,
   "id": "4cd06c03",
   "metadata": {},
   "outputs": [
    {
     "name": "stdout",
     "output_type": "stream",
     "text": [
      "501.15889210079234\n",
      "429.71995503343203\n"
     ]
    }
   ],
   "source": [
    "print(np.quantile(b_b, 0.8))\n",
    "print(np.quantile(b_a, 0.8))"
   ]
  },
  {
   "cell_type": "code",
   "execution_count": 29,
   "id": "f8876f7f",
   "metadata": {},
   "outputs": [
    {
     "data": {
      "image/png": "[encoded data removed]",
      "text/plain": [
       "<Figure size 432x288 with 1 Axes>"
      ]
     },
     "metadata": {
      "needs_background": "light"
     },
     "output_type": "display_data"
    }
   ],
   "source": [
    "from matplotlib import pyplot\n",
    "\n",
    "pyplot.hist(b_a, alpha=0.5, label='Чеки в гр. А')\n",
    "pyplot.hist(b_b, alpha=0.5, label='Чеки в гр. B')\n",
    "pyplot.legend(loc='upper right')\n",
    "pyplot.show()"
   ]
  },
  {
   "cell_type": "code",
   "execution_count": 30,
   "id": "5b9162be",
   "metadata": {},
   "outputs": [],
   "source": [
    "#t_test на кол-ве кликов\n",
    "def t_test(a, b):\n",
    "    \"\"\"\n",
    "    Считает p-value для t-теста с двусторонней альтернативой \n",
    "    :param a: np.array вида (n_experiments, n_users), значения метрик в контрольных группах\n",
    "    :param b: np.array вида (n_experiments, n_users), значения метрик в тестовых группах\n",
    "    :return: np.array вида (n_experiments), посчитанные p-value t-теста для всего списка экспериментов\n",
    "    \"\"\"\n",
    "    result = list(map(lambda x: scipy.stats.ttest_ind(\n",
    "        x[0], x[1]).pvalue, zip(a, b)))\n",
    "    return np.array(result)"
   ]
  },
  {
   "cell_type": "code",
   "execution_count": 31,
   "id": "882e5e9f",
   "metadata": {},
   "outputs": [
    {
     "data": {
      "text/plain": [
       "(0.0, 1.0)"
      ]
     },
     "execution_count": 31,
     "metadata": {},
     "output_type": "execute_result"
    },
    {
     "data": {
      "image/png": "[encoded data removed]",
      "text/plain": [
       "<Figure size 432x288 with 1 Axes>"
      ]
     },
     "metadata": {
      "needs_background": "light"
     },
     "output_type": "display_data"
    }
   ],
   "source": [
    "p_values = t_test(clicks_B, clicks_A)\n",
    "fig, axes = plt.subplots(ncols=1, nrows=1)\n",
    "p_values_distr = sns.histplot(p_values,  # Теперь это массив длины experiments * N\n",
    "                              bins=np.linspace(0, 1, 100),\n",
    "                              kde=False,\n",
    "                              ax=axes,\n",
    "                              stat='probability')\n",
    "axes.set_xlim((0, 1))"
   ]
  },
  {
   "cell_type": "code",
   "execution_count": 32,
   "id": "99dc9fcc",
   "metadata": {},
   "outputs": [],
   "source": [
    "# Палитра цветов\n",
    "colors = sns.color_palette(\"deep\")\n",
    "\n",
    "\n",
    "def plot_cdf(data: np.ndarray, label: str, ax: Axes, color: str = colors[0], linewidth=3):\n",
    "    sorted_data = np.sort(data)\n",
    "    position = scipy.stats.rankdata(sorted_data, method='ordinal')\n",
    "    cdf = position / data.shape[0]\n",
    "\n",
    "    sorted_data = np.hstack((sorted_data, 1))\n",
    "    cdf = np.hstack((cdf, 1))\n",
    "\n",
    "    return ax.plot(sorted_data,\n",
    "                   cdf,\n",
    "                   color=color,\n",
    "                   linestyle='solid',\n",
    "                   label=label,\n",
    "                   linewidth=linewidth)"
   ]
  },
  {
   "cell_type": "code",
   "execution_count": 33,
   "id": "fcf915ae",
   "metadata": {},
   "outputs": [
    {
     "data": {
      "image/png": "[encoded data removed]",
      "text/plain": [
       "<Figure size 300x300 with 1 Axes>"
      ]
     },
     "metadata": {
      "needs_background": "light"
     },
     "output_type": "display_data"
    }
   ],
   "source": [
    "fig, ax = plt.subplots(figsize=(3, 3), dpi = 100)\n",
    "gr = ax.grid(True)\n",
    "xlim = ax.set_xlim(-0.05,1.02)\n",
    "ylim = ax.set_ylim(-0.02,1.02)\n",
    "ax.axvline(0.05, color='k', alpha=0.5)\n",
    "cdf = plot_cdf(p_values,'t-test',ax)\n",
    "ax.set_xlabel(r'$\\alpha$')\n",
    "ax.set_ylabel('Sensitivity')\n",
    "legend = ax.legend()"
   ]
  },
  {
   "cell_type": "code",
   "execution_count": 34,
   "id": "3b94124d",
   "metadata": {},
   "outputs": [],
   "source": [
    "uplift = 0\n",
    "views_B = np.absolute(np.exp(norm(mu, sigma2).rvs(\n",
    "    experiments * N)).astype(np.int32).reshape(experiments, N) + 1)\n",
    "alpha_B = success_rate * (1 + uplift) * beta / \\\n",
    "    (1 - success_rate * (1 + uplift))\n",
    "success_rate_B = scipy.stats.beta(alpha_B, beta).rvs(\n",
    "    experiments * N).reshape(experiments, N)\n",
    "clicks_B = scipy.stats.binom(n=views_B, p=success_rate_B).rvs()"
   ]
  },
  {
   "cell_type": "code",
   "execution_count": 35,
   "id": "2df0e6ea",
   "metadata": {},
   "outputs": [
    {
     "data": {
      "image/png": "[encoded data removed]",
      "text/plain": [
       "<Figure size 432x288 with 1 Axes>"
      ]
     },
     "metadata": {
      "needs_background": "light"
     },
     "output_type": "display_data"
    },
    {
     "data": {
      "image/png": "[encoded data removed]",
      "text/plain": [
       "<Figure size 300x300 with 1 Axes>"
      ]
     },
     "metadata": {
      "needs_background": "light"
     },
     "output_type": "display_data"
    }
   ],
   "source": [
    "p_values = t_test(clicks_B, clicks_A)\n",
    "fig, axes = plt.subplots(ncols=1, nrows=1)\n",
    "p_values_distr = sns.histplot(p_values, # Теперь это массив длины experiments * N \n",
    "                 bins=np.linspace(0, 1, 20),\n",
    "                 kde=False,\n",
    "                 ax = axes,\n",
    "                 stat='probability')\n",
    "axes.set_xlim((0, 1))\n",
    "\n",
    "fig, ax = plt.subplots(figsize=(3, 3), dpi = 100)\n",
    "gr = ax.grid(True)\n",
    "xlim = ax.set_xlim(-0.05,1.02)\n",
    "ylim = ax.set_ylim(-0.02,1.02)\n",
    "ax.axvline(0.05, color='k', alpha=0.5)\n",
    "cdf = plot_cdf(p_values,'t-test',ax)\n",
    "ax.set_xlabel(r'$\\alpha$')\n",
    "ax.set_ylabel('Sensitivity')\n",
    "legend = ax.legend()"
   ]
  },
  {
   "cell_type": "code",
   "execution_count": 36,
   "id": "ebe0f766",
   "metadata": {},
   "outputs": [
    {
     "data": {
      "text/html": [
       "<div>\n",
       "<style scoped>\n",
       "    .dataframe tbody tr th:only-of-type {\n",
       "        vertical-align: middle;\n",
       "    }\n",
       "\n",
       "    .dataframe tbody tr th {\n",
       "        vertical-align: top;\n",
       "    }\n",
       "\n",
       "    .dataframe thead th {\n",
       "        text-align: right;\n",
       "    }\n",
       "</style>\n",
       "<table border=\"1\" class=\"dataframe\">\n",
       "  <thead>\n",
       "    <tr style=\"text-align: right;\">\n",
       "      <th></th>\n",
       "      <th>0</th>\n",
       "      <th>1</th>\n",
       "      <th>2</th>\n",
       "      <th>3</th>\n",
       "      <th>4</th>\n",
       "      <th>5</th>\n",
       "      <th>6</th>\n",
       "      <th>7</th>\n",
       "      <th>8</th>\n",
       "      <th>9</th>\n",
       "      <th>...</th>\n",
       "      <th>990</th>\n",
       "      <th>991</th>\n",
       "      <th>992</th>\n",
       "      <th>993</th>\n",
       "      <th>994</th>\n",
       "      <th>995</th>\n",
       "      <th>996</th>\n",
       "      <th>997</th>\n",
       "      <th>998</th>\n",
       "      <th>999</th>\n",
       "    </tr>\n",
       "  </thead>\n",
       "  <tbody>\n",
       "    <tr>\n",
       "      <th>0</th>\n",
       "      <td>0.0</td>\n",
       "      <td>0.000000</td>\n",
       "      <td>217.946131</td>\n",
       "      <td>0.000000</td>\n",
       "      <td>0.000000</td>\n",
       "      <td>138.144567</td>\n",
       "      <td>0.0</td>\n",
       "      <td>0.000000</td>\n",
       "      <td>0.000000</td>\n",
       "      <td>0.0</td>\n",
       "      <td>...</td>\n",
       "      <td>0.000000</td>\n",
       "      <td>0.000000</td>\n",
       "      <td>0.000000</td>\n",
       "      <td>0.000000</td>\n",
       "      <td>0.000000</td>\n",
       "      <td>0.000000</td>\n",
       "      <td>0.000000</td>\n",
       "      <td>0.0</td>\n",
       "      <td>0.000000</td>\n",
       "      <td>0.000000</td>\n",
       "    </tr>\n",
       "    <tr>\n",
       "      <th>1</th>\n",
       "      <td>0.0</td>\n",
       "      <td>0.000000</td>\n",
       "      <td>217.946131</td>\n",
       "      <td>0.000000</td>\n",
       "      <td>329.993599</td>\n",
       "      <td>0.000000</td>\n",
       "      <td>0.0</td>\n",
       "      <td>0.000000</td>\n",
       "      <td>0.000000</td>\n",
       "      <td>0.0</td>\n",
       "      <td>...</td>\n",
       "      <td>0.000000</td>\n",
       "      <td>0.000000</td>\n",
       "      <td>0.000000</td>\n",
       "      <td>0.000000</td>\n",
       "      <td>0.000000</td>\n",
       "      <td>0.000000</td>\n",
       "      <td>316.824117</td>\n",
       "      <td>0.0</td>\n",
       "      <td>0.000000</td>\n",
       "      <td>0.000000</td>\n",
       "    </tr>\n",
       "    <tr>\n",
       "      <th>2</th>\n",
       "      <td>0.0</td>\n",
       "      <td>0.000000</td>\n",
       "      <td>0.000000</td>\n",
       "      <td>0.000000</td>\n",
       "      <td>0.000000</td>\n",
       "      <td>0.000000</td>\n",
       "      <td>0.0</td>\n",
       "      <td>0.000000</td>\n",
       "      <td>0.000000</td>\n",
       "      <td>0.0</td>\n",
       "      <td>...</td>\n",
       "      <td>0.000000</td>\n",
       "      <td>509.260164</td>\n",
       "      <td>0.000000</td>\n",
       "      <td>0.000000</td>\n",
       "      <td>0.000000</td>\n",
       "      <td>1481.217065</td>\n",
       "      <td>0.000000</td>\n",
       "      <td>0.0</td>\n",
       "      <td>0.000000</td>\n",
       "      <td>392.986648</td>\n",
       "    </tr>\n",
       "    <tr>\n",
       "      <th>3</th>\n",
       "      <td>0.0</td>\n",
       "      <td>0.000000</td>\n",
       "      <td>0.000000</td>\n",
       "      <td>0.000000</td>\n",
       "      <td>0.000000</td>\n",
       "      <td>0.000000</td>\n",
       "      <td>0.0</td>\n",
       "      <td>0.000000</td>\n",
       "      <td>0.000000</td>\n",
       "      <td>0.0</td>\n",
       "      <td>...</td>\n",
       "      <td>0.000000</td>\n",
       "      <td>0.000000</td>\n",
       "      <td>0.000000</td>\n",
       "      <td>0.000000</td>\n",
       "      <td>100.060489</td>\n",
       "      <td>0.000000</td>\n",
       "      <td>0.000000</td>\n",
       "      <td>0.0</td>\n",
       "      <td>0.000000</td>\n",
       "      <td>0.000000</td>\n",
       "    </tr>\n",
       "    <tr>\n",
       "      <th>4</th>\n",
       "      <td>0.0</td>\n",
       "      <td>545.597961</td>\n",
       "      <td>0.000000</td>\n",
       "      <td>216.059961</td>\n",
       "      <td>0.000000</td>\n",
       "      <td>0.000000</td>\n",
       "      <td>0.0</td>\n",
       "      <td>0.000000</td>\n",
       "      <td>0.000000</td>\n",
       "      <td>0.0</td>\n",
       "      <td>...</td>\n",
       "      <td>0.000000</td>\n",
       "      <td>0.000000</td>\n",
       "      <td>0.000000</td>\n",
       "      <td>179.051943</td>\n",
       "      <td>0.000000</td>\n",
       "      <td>0.000000</td>\n",
       "      <td>0.000000</td>\n",
       "      <td>0.0</td>\n",
       "      <td>0.000000</td>\n",
       "      <td>0.000000</td>\n",
       "    </tr>\n",
       "    <tr>\n",
       "      <th>5</th>\n",
       "      <td>0.0</td>\n",
       "      <td>0.000000</td>\n",
       "      <td>0.000000</td>\n",
       "      <td>0.000000</td>\n",
       "      <td>0.000000</td>\n",
       "      <td>0.000000</td>\n",
       "      <td>0.0</td>\n",
       "      <td>0.000000</td>\n",
       "      <td>124.437371</td>\n",
       "      <td>0.0</td>\n",
       "      <td>...</td>\n",
       "      <td>125.087051</td>\n",
       "      <td>0.000000</td>\n",
       "      <td>0.000000</td>\n",
       "      <td>0.000000</td>\n",
       "      <td>100.060489</td>\n",
       "      <td>0.000000</td>\n",
       "      <td>0.000000</td>\n",
       "      <td>0.0</td>\n",
       "      <td>0.000000</td>\n",
       "      <td>392.986648</td>\n",
       "    </tr>\n",
       "    <tr>\n",
       "      <th>6</th>\n",
       "      <td>0.0</td>\n",
       "      <td>0.000000</td>\n",
       "      <td>0.000000</td>\n",
       "      <td>0.000000</td>\n",
       "      <td>0.000000</td>\n",
       "      <td>0.000000</td>\n",
       "      <td>0.0</td>\n",
       "      <td>126.704977</td>\n",
       "      <td>124.437371</td>\n",
       "      <td>0.0</td>\n",
       "      <td>...</td>\n",
       "      <td>0.000000</td>\n",
       "      <td>0.000000</td>\n",
       "      <td>0.000000</td>\n",
       "      <td>0.000000</td>\n",
       "      <td>0.000000</td>\n",
       "      <td>0.000000</td>\n",
       "      <td>0.000000</td>\n",
       "      <td>0.0</td>\n",
       "      <td>332.258988</td>\n",
       "      <td>0.000000</td>\n",
       "    </tr>\n",
       "    <tr>\n",
       "      <th>7</th>\n",
       "      <td>0.0</td>\n",
       "      <td>0.000000</td>\n",
       "      <td>0.000000</td>\n",
       "      <td>216.059961</td>\n",
       "      <td>0.000000</td>\n",
       "      <td>138.144567</td>\n",
       "      <td>0.0</td>\n",
       "      <td>0.000000</td>\n",
       "      <td>0.000000</td>\n",
       "      <td>0.0</td>\n",
       "      <td>...</td>\n",
       "      <td>0.000000</td>\n",
       "      <td>0.000000</td>\n",
       "      <td>0.000000</td>\n",
       "      <td>179.051943</td>\n",
       "      <td>0.000000</td>\n",
       "      <td>0.000000</td>\n",
       "      <td>316.824117</td>\n",
       "      <td>0.0</td>\n",
       "      <td>0.000000</td>\n",
       "      <td>0.000000</td>\n",
       "    </tr>\n",
       "    <tr>\n",
       "      <th>8</th>\n",
       "      <td>0.0</td>\n",
       "      <td>545.597961</td>\n",
       "      <td>0.000000</td>\n",
       "      <td>0.000000</td>\n",
       "      <td>0.000000</td>\n",
       "      <td>138.144567</td>\n",
       "      <td>0.0</td>\n",
       "      <td>0.000000</td>\n",
       "      <td>0.000000</td>\n",
       "      <td>0.0</td>\n",
       "      <td>...</td>\n",
       "      <td>0.000000</td>\n",
       "      <td>0.000000</td>\n",
       "      <td>0.000000</td>\n",
       "      <td>0.000000</td>\n",
       "      <td>0.000000</td>\n",
       "      <td>0.000000</td>\n",
       "      <td>0.000000</td>\n",
       "      <td>0.0</td>\n",
       "      <td>0.000000</td>\n",
       "      <td>392.986648</td>\n",
       "    </tr>\n",
       "    <tr>\n",
       "      <th>9</th>\n",
       "      <td>0.0</td>\n",
       "      <td>0.000000</td>\n",
       "      <td>217.946131</td>\n",
       "      <td>0.000000</td>\n",
       "      <td>0.000000</td>\n",
       "      <td>138.144567</td>\n",
       "      <td>0.0</td>\n",
       "      <td>0.000000</td>\n",
       "      <td>124.437371</td>\n",
       "      <td>0.0</td>\n",
       "      <td>...</td>\n",
       "      <td>0.000000</td>\n",
       "      <td>0.000000</td>\n",
       "      <td>1213.380882</td>\n",
       "      <td>0.000000</td>\n",
       "      <td>0.000000</td>\n",
       "      <td>0.000000</td>\n",
       "      <td>0.000000</td>\n",
       "      <td>0.0</td>\n",
       "      <td>0.000000</td>\n",
       "      <td>0.000000</td>\n",
       "    </tr>\n",
       "  </tbody>\n",
       "</table>\n",
       "<p>10 rows × 1000 columns</p>\n",
       "</div>"
      ],
      "text/plain": [
       "   0           1           2           3           4           5    6    \\\n",
       "0  0.0    0.000000  217.946131    0.000000    0.000000  138.144567  0.0   \n",
       "1  0.0    0.000000  217.946131    0.000000  329.993599    0.000000  0.0   \n",
       "2  0.0    0.000000    0.000000    0.000000    0.000000    0.000000  0.0   \n",
       "3  0.0    0.000000    0.000000    0.000000    0.000000    0.000000  0.0   \n",
       "4  0.0  545.597961    0.000000  216.059961    0.000000    0.000000  0.0   \n",
       "5  0.0    0.000000    0.000000    0.000000    0.000000    0.000000  0.0   \n",
       "6  0.0    0.000000    0.000000    0.000000    0.000000    0.000000  0.0   \n",
       "7  0.0    0.000000    0.000000  216.059961    0.000000  138.144567  0.0   \n",
       "8  0.0  545.597961    0.000000    0.000000    0.000000  138.144567  0.0   \n",
       "9  0.0    0.000000  217.946131    0.000000    0.000000  138.144567  0.0   \n",
       "\n",
       "          7           8    9    ...         990         991          992  \\\n",
       "0    0.000000    0.000000  0.0  ...    0.000000    0.000000     0.000000   \n",
       "1    0.000000    0.000000  0.0  ...    0.000000    0.000000     0.000000   \n",
       "2    0.000000    0.000000  0.0  ...    0.000000  509.260164     0.000000   \n",
       "3    0.000000    0.000000  0.0  ...    0.000000    0.000000     0.000000   \n",
       "4    0.000000    0.000000  0.0  ...    0.000000    0.000000     0.000000   \n",
       "5    0.000000  124.437371  0.0  ...  125.087051    0.000000     0.000000   \n",
       "6  126.704977  124.437371  0.0  ...    0.000000    0.000000     0.000000   \n",
       "7    0.000000    0.000000  0.0  ...    0.000000    0.000000     0.000000   \n",
       "8    0.000000    0.000000  0.0  ...    0.000000    0.000000     0.000000   \n",
       "9    0.000000  124.437371  0.0  ...    0.000000    0.000000  1213.380882   \n",
       "\n",
       "          993         994          995         996  997         998  \\\n",
       "0    0.000000    0.000000     0.000000    0.000000  0.0    0.000000   \n",
       "1    0.000000    0.000000     0.000000  316.824117  0.0    0.000000   \n",
       "2    0.000000    0.000000  1481.217065    0.000000  0.0    0.000000   \n",
       "3    0.000000  100.060489     0.000000    0.000000  0.0    0.000000   \n",
       "4  179.051943    0.000000     0.000000    0.000000  0.0    0.000000   \n",
       "5    0.000000  100.060489     0.000000    0.000000  0.0    0.000000   \n",
       "6    0.000000    0.000000     0.000000    0.000000  0.0  332.258988   \n",
       "7  179.051943    0.000000     0.000000  316.824117  0.0    0.000000   \n",
       "8    0.000000    0.000000     0.000000    0.000000  0.0    0.000000   \n",
       "9    0.000000    0.000000     0.000000    0.000000  0.0    0.000000   \n",
       "\n",
       "          999  \n",
       "0    0.000000  \n",
       "1    0.000000  \n",
       "2  392.986648  \n",
       "3    0.000000  \n",
       "4    0.000000  \n",
       "5  392.986648  \n",
       "6    0.000000  \n",
       "7    0.000000  \n",
       "8  392.986648  \n",
       "9    0.000000  \n",
       "\n",
       "[10 rows x 1000 columns]"
      ]
     },
     "execution_count": 36,
     "metadata": {},
     "output_type": "execute_result"
    }
   ],
   "source": [
    "# Сгенерируем суммы покупок в группе B\n",
    "bills_b = b_b*clicks_B.T\n",
    "pd.DataFrame(bills_b).head(10)"
   ]
  },
  {
   "cell_type": "code",
   "execution_count": 37,
   "id": "8af99136",
   "metadata": {},
   "outputs": [
    {
     "data": {
      "text/html": [
       "<div>\n",
       "<style scoped>\n",
       "    .dataframe tbody tr th:only-of-type {\n",
       "        vertical-align: middle;\n",
       "    }\n",
       "\n",
       "    .dataframe tbody tr th {\n",
       "        vertical-align: top;\n",
       "    }\n",
       "\n",
       "    .dataframe thead th {\n",
       "        text-align: right;\n",
       "    }\n",
       "</style>\n",
       "<table border=\"1\" class=\"dataframe\">\n",
       "  <thead>\n",
       "    <tr style=\"text-align: right;\">\n",
       "      <th></th>\n",
       "      <th>0</th>\n",
       "      <th>1</th>\n",
       "      <th>2</th>\n",
       "      <th>3</th>\n",
       "      <th>4</th>\n",
       "      <th>5</th>\n",
       "      <th>6</th>\n",
       "      <th>7</th>\n",
       "      <th>8</th>\n",
       "      <th>9</th>\n",
       "      <th>...</th>\n",
       "      <th>990</th>\n",
       "      <th>991</th>\n",
       "      <th>992</th>\n",
       "      <th>993</th>\n",
       "      <th>994</th>\n",
       "      <th>995</th>\n",
       "      <th>996</th>\n",
       "      <th>997</th>\n",
       "      <th>998</th>\n",
       "      <th>999</th>\n",
       "    </tr>\n",
       "  </thead>\n",
       "  <tbody>\n",
       "    <tr>\n",
       "      <th>0</th>\n",
       "      <td>0.000000</td>\n",
       "      <td>0.000000</td>\n",
       "      <td>0.00000</td>\n",
       "      <td>0.000000</td>\n",
       "      <td>0.000000</td>\n",
       "      <td>0.000000</td>\n",
       "      <td>0.0</td>\n",
       "      <td>0.000000</td>\n",
       "      <td>462.199466</td>\n",
       "      <td>0.000000</td>\n",
       "      <td>...</td>\n",
       "      <td>0.0</td>\n",
       "      <td>0.000000</td>\n",
       "      <td>0.0</td>\n",
       "      <td>0.0</td>\n",
       "      <td>0.000000</td>\n",
       "      <td>0.000000</td>\n",
       "      <td>0.0</td>\n",
       "      <td>0.000000</td>\n",
       "      <td>0.0</td>\n",
       "      <td>0.000000</td>\n",
       "    </tr>\n",
       "    <tr>\n",
       "      <th>1</th>\n",
       "      <td>0.000000</td>\n",
       "      <td>0.000000</td>\n",
       "      <td>400.08763</td>\n",
       "      <td>0.000000</td>\n",
       "      <td>855.060857</td>\n",
       "      <td>0.000000</td>\n",
       "      <td>0.0</td>\n",
       "      <td>0.000000</td>\n",
       "      <td>0.000000</td>\n",
       "      <td>0.000000</td>\n",
       "      <td>...</td>\n",
       "      <td>0.0</td>\n",
       "      <td>0.000000</td>\n",
       "      <td>0.0</td>\n",
       "      <td>0.0</td>\n",
       "      <td>388.443562</td>\n",
       "      <td>0.000000</td>\n",
       "      <td>0.0</td>\n",
       "      <td>0.000000</td>\n",
       "      <td>0.0</td>\n",
       "      <td>0.000000</td>\n",
       "    </tr>\n",
       "    <tr>\n",
       "      <th>2</th>\n",
       "      <td>0.000000</td>\n",
       "      <td>0.000000</td>\n",
       "      <td>400.08763</td>\n",
       "      <td>0.000000</td>\n",
       "      <td>0.000000</td>\n",
       "      <td>0.000000</td>\n",
       "      <td>0.0</td>\n",
       "      <td>0.000000</td>\n",
       "      <td>0.000000</td>\n",
       "      <td>0.000000</td>\n",
       "      <td>...</td>\n",
       "      <td>0.0</td>\n",
       "      <td>0.000000</td>\n",
       "      <td>0.0</td>\n",
       "      <td>0.0</td>\n",
       "      <td>0.000000</td>\n",
       "      <td>0.000000</td>\n",
       "      <td>0.0</td>\n",
       "      <td>0.000000</td>\n",
       "      <td>0.0</td>\n",
       "      <td>0.000000</td>\n",
       "    </tr>\n",
       "    <tr>\n",
       "      <th>3</th>\n",
       "      <td>282.560939</td>\n",
       "      <td>178.102186</td>\n",
       "      <td>0.00000</td>\n",
       "      <td>0.000000</td>\n",
       "      <td>0.000000</td>\n",
       "      <td>0.000000</td>\n",
       "      <td>0.0</td>\n",
       "      <td>117.606946</td>\n",
       "      <td>0.000000</td>\n",
       "      <td>0.000000</td>\n",
       "      <td>...</td>\n",
       "      <td>0.0</td>\n",
       "      <td>0.000000</td>\n",
       "      <td>0.0</td>\n",
       "      <td>0.0</td>\n",
       "      <td>0.000000</td>\n",
       "      <td>514.629935</td>\n",
       "      <td>0.0</td>\n",
       "      <td>0.000000</td>\n",
       "      <td>0.0</td>\n",
       "      <td>0.000000</td>\n",
       "    </tr>\n",
       "    <tr>\n",
       "      <th>4</th>\n",
       "      <td>0.000000</td>\n",
       "      <td>178.102186</td>\n",
       "      <td>0.00000</td>\n",
       "      <td>165.576573</td>\n",
       "      <td>0.000000</td>\n",
       "      <td>0.000000</td>\n",
       "      <td>0.0</td>\n",
       "      <td>0.000000</td>\n",
       "      <td>0.000000</td>\n",
       "      <td>263.844161</td>\n",
       "      <td>...</td>\n",
       "      <td>0.0</td>\n",
       "      <td>0.000000</td>\n",
       "      <td>0.0</td>\n",
       "      <td>0.0</td>\n",
       "      <td>0.000000</td>\n",
       "      <td>0.000000</td>\n",
       "      <td>0.0</td>\n",
       "      <td>0.000000</td>\n",
       "      <td>0.0</td>\n",
       "      <td>0.000000</td>\n",
       "    </tr>\n",
       "    <tr>\n",
       "      <th>5</th>\n",
       "      <td>0.000000</td>\n",
       "      <td>0.000000</td>\n",
       "      <td>0.00000</td>\n",
       "      <td>0.000000</td>\n",
       "      <td>0.000000</td>\n",
       "      <td>0.000000</td>\n",
       "      <td>0.0</td>\n",
       "      <td>0.000000</td>\n",
       "      <td>0.000000</td>\n",
       "      <td>0.000000</td>\n",
       "      <td>...</td>\n",
       "      <td>0.0</td>\n",
       "      <td>388.688374</td>\n",
       "      <td>0.0</td>\n",
       "      <td>0.0</td>\n",
       "      <td>0.000000</td>\n",
       "      <td>0.000000</td>\n",
       "      <td>0.0</td>\n",
       "      <td>0.000000</td>\n",
       "      <td>0.0</td>\n",
       "      <td>0.000000</td>\n",
       "    </tr>\n",
       "    <tr>\n",
       "      <th>6</th>\n",
       "      <td>0.000000</td>\n",
       "      <td>0.000000</td>\n",
       "      <td>0.00000</td>\n",
       "      <td>0.000000</td>\n",
       "      <td>0.000000</td>\n",
       "      <td>0.000000</td>\n",
       "      <td>0.0</td>\n",
       "      <td>0.000000</td>\n",
       "      <td>0.000000</td>\n",
       "      <td>0.000000</td>\n",
       "      <td>...</td>\n",
       "      <td>0.0</td>\n",
       "      <td>0.000000</td>\n",
       "      <td>0.0</td>\n",
       "      <td>0.0</td>\n",
       "      <td>0.000000</td>\n",
       "      <td>0.000000</td>\n",
       "      <td>0.0</td>\n",
       "      <td>527.816114</td>\n",
       "      <td>0.0</td>\n",
       "      <td>149.433226</td>\n",
       "    </tr>\n",
       "    <tr>\n",
       "      <th>7</th>\n",
       "      <td>0.000000</td>\n",
       "      <td>178.102186</td>\n",
       "      <td>0.00000</td>\n",
       "      <td>165.576573</td>\n",
       "      <td>0.000000</td>\n",
       "      <td>341.051981</td>\n",
       "      <td>0.0</td>\n",
       "      <td>0.000000</td>\n",
       "      <td>462.199466</td>\n",
       "      <td>0.000000</td>\n",
       "      <td>...</td>\n",
       "      <td>0.0</td>\n",
       "      <td>0.000000</td>\n",
       "      <td>0.0</td>\n",
       "      <td>0.0</td>\n",
       "      <td>0.000000</td>\n",
       "      <td>0.000000</td>\n",
       "      <td>0.0</td>\n",
       "      <td>0.000000</td>\n",
       "      <td>0.0</td>\n",
       "      <td>0.000000</td>\n",
       "    </tr>\n",
       "    <tr>\n",
       "      <th>8</th>\n",
       "      <td>0.000000</td>\n",
       "      <td>0.000000</td>\n",
       "      <td>0.00000</td>\n",
       "      <td>0.000000</td>\n",
       "      <td>0.000000</td>\n",
       "      <td>0.000000</td>\n",
       "      <td>0.0</td>\n",
       "      <td>0.000000</td>\n",
       "      <td>0.000000</td>\n",
       "      <td>0.000000</td>\n",
       "      <td>...</td>\n",
       "      <td>0.0</td>\n",
       "      <td>0.000000</td>\n",
       "      <td>0.0</td>\n",
       "      <td>0.0</td>\n",
       "      <td>0.000000</td>\n",
       "      <td>0.000000</td>\n",
       "      <td>0.0</td>\n",
       "      <td>0.000000</td>\n",
       "      <td>0.0</td>\n",
       "      <td>0.000000</td>\n",
       "    </tr>\n",
       "    <tr>\n",
       "      <th>9</th>\n",
       "      <td>0.000000</td>\n",
       "      <td>178.102186</td>\n",
       "      <td>0.00000</td>\n",
       "      <td>0.000000</td>\n",
       "      <td>0.000000</td>\n",
       "      <td>0.000000</td>\n",
       "      <td>0.0</td>\n",
       "      <td>0.000000</td>\n",
       "      <td>0.000000</td>\n",
       "      <td>0.000000</td>\n",
       "      <td>...</td>\n",
       "      <td>0.0</td>\n",
       "      <td>0.000000</td>\n",
       "      <td>0.0</td>\n",
       "      <td>0.0</td>\n",
       "      <td>0.000000</td>\n",
       "      <td>0.000000</td>\n",
       "      <td>0.0</td>\n",
       "      <td>0.000000</td>\n",
       "      <td>0.0</td>\n",
       "      <td>0.000000</td>\n",
       "    </tr>\n",
       "  </tbody>\n",
       "</table>\n",
       "<p>10 rows × 1000 columns</p>\n",
       "</div>"
      ],
      "text/plain": [
       "          0           1          2           3           4           5    6    \\\n",
       "0    0.000000    0.000000    0.00000    0.000000    0.000000    0.000000  0.0   \n",
       "1    0.000000    0.000000  400.08763    0.000000  855.060857    0.000000  0.0   \n",
       "2    0.000000    0.000000  400.08763    0.000000    0.000000    0.000000  0.0   \n",
       "3  282.560939  178.102186    0.00000    0.000000    0.000000    0.000000  0.0   \n",
       "4    0.000000  178.102186    0.00000  165.576573    0.000000    0.000000  0.0   \n",
       "5    0.000000    0.000000    0.00000    0.000000    0.000000    0.000000  0.0   \n",
       "6    0.000000    0.000000    0.00000    0.000000    0.000000    0.000000  0.0   \n",
       "7    0.000000  178.102186    0.00000  165.576573    0.000000  341.051981  0.0   \n",
       "8    0.000000    0.000000    0.00000    0.000000    0.000000    0.000000  0.0   \n",
       "9    0.000000  178.102186    0.00000    0.000000    0.000000    0.000000  0.0   \n",
       "\n",
       "          7           8           9    ...  990         991  992  993  \\\n",
       "0    0.000000  462.199466    0.000000  ...  0.0    0.000000  0.0  0.0   \n",
       "1    0.000000    0.000000    0.000000  ...  0.0    0.000000  0.0  0.0   \n",
       "2    0.000000    0.000000    0.000000  ...  0.0    0.000000  0.0  0.0   \n",
       "3  117.606946    0.000000    0.000000  ...  0.0    0.000000  0.0  0.0   \n",
       "4    0.000000    0.000000  263.844161  ...  0.0    0.000000  0.0  0.0   \n",
       "5    0.000000    0.000000    0.000000  ...  0.0  388.688374  0.0  0.0   \n",
       "6    0.000000    0.000000    0.000000  ...  0.0    0.000000  0.0  0.0   \n",
       "7    0.000000  462.199466    0.000000  ...  0.0    0.000000  0.0  0.0   \n",
       "8    0.000000    0.000000    0.000000  ...  0.0    0.000000  0.0  0.0   \n",
       "9    0.000000    0.000000    0.000000  ...  0.0    0.000000  0.0  0.0   \n",
       "\n",
       "          994         995  996         997  998         999  \n",
       "0    0.000000    0.000000  0.0    0.000000  0.0    0.000000  \n",
       "1  388.443562    0.000000  0.0    0.000000  0.0    0.000000  \n",
       "2    0.000000    0.000000  0.0    0.000000  0.0    0.000000  \n",
       "3    0.000000  514.629935  0.0    0.000000  0.0    0.000000  \n",
       "4    0.000000    0.000000  0.0    0.000000  0.0    0.000000  \n",
       "5    0.000000    0.000000  0.0    0.000000  0.0    0.000000  \n",
       "6    0.000000    0.000000  0.0  527.816114  0.0  149.433226  \n",
       "7    0.000000    0.000000  0.0    0.000000  0.0    0.000000  \n",
       "8    0.000000    0.000000  0.0    0.000000  0.0    0.000000  \n",
       "9    0.000000    0.000000  0.0    0.000000  0.0    0.000000  \n",
       "\n",
       "[10 rows x 1000 columns]"
      ]
     },
     "execution_count": 37,
     "metadata": {},
     "output_type": "execute_result"
    }
   ],
   "source": [
    "# Сгенерируем суммы покупок в группе A\n",
    "bills_a = clicks_A.T*b_a.T\n",
    "pd.DataFrame(bills_a).head(10)"
   ]
  },
  {
   "cell_type": "code",
   "execution_count": 38,
   "id": "dc43eae4",
   "metadata": {},
   "outputs": [
    {
     "name": "stdout",
     "output_type": "stream",
     "text": [
      "Средний чек в гр. B: 398.1726765429947\n",
      "80 квантиль по чекам в гр. B: 556.4138440993959\n"
     ]
    },
    {
     "data": {
      "text/plain": [
       "(5000, 1000)"
      ]
     },
     "execution_count": 38,
     "metadata": {},
     "output_type": "execute_result"
    },
    {
     "data": {
      "image/png": "[encoded data removed]",
      "text/plain": [
       "<Figure size 432x288 with 1 Axes>"
      ]
     },
     "metadata": {
      "needs_background": "light"
     },
     "output_type": "display_data"
    }
   ],
   "source": [
    "# Visitors bills based on clicks in Group B\n",
    "bills_b_df = pd.DataFrame(bills_b).head(10)\n",
    "average_b = bills_b_df[bills_b_df!=0].mean()\n",
    "print(\"Средний чек в гр. B:\", average_b.mean())\n",
    "print(\"80 квантиль по чекам в гр. B:\", average_b.quantile(0.8))\n",
    "plt.hist(average_b)\n",
    "plt.xlim(0, 3000)\n",
    "plt.xlabel('Rub.')\n",
    "plt.ylabel('Frec.')\n",
    "plt.title('Visitors bills based on clicks in Group B')\n",
    "bills_b.shape"
   ]
  },
  {
   "cell_type": "code",
   "execution_count": 39,
   "id": "c6820fa1",
   "metadata": {},
   "outputs": [
    {
     "name": "stdout",
     "output_type": "stream",
     "text": [
      "Средний чек в гр. А: 347.1983416619546\n",
      "80 квантиль по чекам в гр. А: 478.18359369167905\n"
     ]
    },
    {
     "data": {
      "text/plain": [
       "(5000, 1000)"
      ]
     },
     "execution_count": 39,
     "metadata": {},
     "output_type": "execute_result"
    },
    {
     "data": {
      "image/png": "[encoded data removed]",
      "text/plain": [
       "<Figure size 432x288 with 1 Axes>"
      ]
     },
     "metadata": {
      "needs_background": "light"
     },
     "output_type": "display_data"
    }
   ],
   "source": [
    "# Visitors bills based on clicks in Group A\n",
    "bills_a_df = pd.DataFrame(bills_a).head(10)\n",
    "average_a = bills_a_df[bills_a_df!=0].mean()\n",
    "print(\"Средний чек в гр. А:\", average_a.mean())\n",
    "print(\"80 квантиль по чекам в гр. А:\", average_a.quantile(0.8))\n",
    "plt.hist(average_a)\n",
    "plt.xlim(0, 3000)\n",
    "plt.xlabel('Rub.')\n",
    "plt.ylabel('Frec.')\n",
    "plt.title('Visitors bills based on clicks in Group A')\n",
    "bills_a.shape"
   ]
  },
  {
   "cell_type": "code",
   "execution_count": 40,
   "id": "a5096645",
   "metadata": {},
   "outputs": [],
   "source": [
    "#Генерация данных (sigma2 и beta настраиваются) \n",
    "def generation(N=5000,  # Кол-во человек в выборке\n",
    "               experiments=2000,  # Кол-во синтетических экспериментов А/А и А/В\n",
    "               # Один из параметров распределения просмотров (можете самостоятельно его пошатать)\n",
    "               mu=1,\n",
    "               # Скошенность распределения просмотров (можете самостоятельно его пошатать)\n",
    "               sigma2=sigma2,\n",
    "               success_rate=0.03,  # Истинный CTR в контрольной группе\n",
    "               uplift=0.1,  # Аплифт теста над контролем. По умолчанию 20%\n",
    "               beta=beta# Параметр для контроля дисперсии распределения истинного CTR\n",
    "               ):\n",
    "\n",
    "    # На просмотры мы не влияем, поэтому тут сэмплирование одинаковое\n",
    "    # Но что будет, если мы влияем на просмотры?\n",
    "    views_a_1 = np.exp(norm(mu, sigma2).rvs(experiments * N)\n",
    "                       ).astype(np.int32).reshape(experiments, N) + 1\n",
    "    views_a_2 = np.exp(norm(mu, sigma2).rvs(experiments * N)\n",
    "                       ).astype(np.int32).reshape(experiments, N) + 1\n",
    "    views_b = np.exp(norm(mu, sigma2).rvs(experiments * N)\n",
    "                     ).astype(np.int32).reshape(experiments, N) + 1\n",
    "\n",
    "    # Правит проблемы для случаев слишком большой скошенности\n",
    "    views_a_1 = np.absolute(views_a_1)\n",
    "    views_a_2 = np.absolute(views_a_2)\n",
    "    views_b = np.absolute(views_b)\n",
    "\n",
    "    # Истинный CTR для групп А/А\n",
    "    alpha_a = success_rate * beta / (1 - success_rate)\n",
    "    success_rate_a_1 = scipy.stats.beta(alpha_a, beta).rvs(\n",
    "        experiments * N).reshape(experiments, N)\n",
    "    success_rate_a_2 = scipy.stats.beta(alpha_a, beta).rvs(\n",
    "        experiments * N).reshape(experiments, N)\n",
    "\n",
    "    # Истинный CTR для группы В\n",
    "    alpha_b = success_rate * (1 + uplift) * beta / \\\n",
    "        (1 - success_rate * (1 + uplift))\n",
    "    success_rate_b = scipy.stats.beta(alpha_b, beta).rvs(\n",
    "        experiments * N).reshape(experiments, N)\n",
    "\n",
    "    # Распределение кликов в группах\n",
    "    clicks_a_1 = scipy.stats.binom(n=views_a_1, p=success_rate_a_1).rvs()\n",
    "    clicks_a_2 = scipy.stats.binom(n=views_a_2, p=success_rate_a_2).rvs()\n",
    "    clicks_b = scipy.stats.binom(n=views_b, p=success_rate_b).rvs()\n",
    "    \n",
    "    # Моделируем чеки в группе A\n",
    "    Lambda = 1.2*0.004\n",
    "    C = 1 # мне не понадобилась константа С\n",
    "    lower, upper, scale = 100, 2500, 1/Lambda\n",
    "    X = stats.truncexpon(b=(upper-lower)/scale, loc=lower, scale=scale)\n",
    "    b_a = C * X.rvs(2000)\n",
    "    \n",
    "    # Моделируем чеки в группе B\n",
    "    Lambda1 = 0.004\n",
    "    C = 1 # мне не понадобилась константа С\n",
    "    lower, upper, scale = 100, 2500, 1/Lambda1\n",
    "    X = stats.truncexpon(b=(upper-lower)/scale, loc=lower, scale=scale)\n",
    "    b_b = C * X.rvs(2000)\n",
    "    \n",
    "    # Добавляем параметр \"Распределение чеков в группах\"\n",
    "    bills_a_1 = (b_a*clicks_a_1.T).T\n",
    "    bills_a_2 = (b_a*clicks_a_2.T).T\n",
    "    bills_b = (b_b*clicks_b.T).T\n",
    "\n",
    "    return views_a_1, views_a_2, views_b,\\\n",
    "        success_rate_a_1, success_rate_a_2, success_rate_b,\\\n",
    "        clicks_a_1, clicks_a_2, clicks_b, \\\n",
    "        bills_a_1, bills_a_2, bills_b"
   ]
  },
  {
   "cell_type": "code",
   "execution_count": 41,
   "id": "3ac9502e",
   "metadata": {},
   "outputs": [],
   "source": [
    "# # Генерируем и сохраняем выборки с оптимальными сигма2 и бета (sigma2=1, beta=1000)\n",
    "\n",
    "# # ЯЧЕЙКУ НЕ ЗАПУСКАЮ\n",
    "\n",
    "# views_a_1_opt = generation(sigma2=1, beta=1000)[0]\n",
    "# views_a_1_opt = np.save('views_a_1_opt', views_a_1_opt)\n",
    "\n",
    "# views_a_2_opt = generation(sigma2=1, beta=1000)[1]\n",
    "# views_a_2_opt = np.save('views_a_2_opt', views_a_2_opt)\n",
    "\n",
    "# views_b_opt = generation(sigma2=1, beta=1000)[2]\n",
    "# views_b_opt = np.save('views_b_opt', views_b_opt)\n",
    "\n",
    "# success_rate_a_1_opt = generation(sigma2=1, beta=1000)[3]\n",
    "# success_rate_a_1_opt = np.save('success_rate_a_1_opt', success_rate_a_1_opt)\n",
    "\n",
    "# success_rate_a_2_opt = generation(sigma2=1, beta=1000)[4]\n",
    "# success_rate_a_2_opt = np.save('success_rate_a_2_opt', success_rate_a_2_opt)\n",
    "\n",
    "# success_rate_b_opt = generation(sigma2=1, beta=1000)[5]\n",
    "# success_rate_b_opt = np.save('success_rate_b_opt', success_rate_b_opt)\n",
    "\n",
    "# clicks_a_1_opt = generation(sigma2=1, beta=1000)[6] \n",
    "# clicks_a_1_opt = np.save('clicks_a_1_opt', clicks_a_1_opt)\n",
    "\n",
    "# clicks_a_2_opt = generation(sigma2=1, beta=1000)[7] \n",
    "# clicks_a_2_opt = np.save('clicks_a_2_opt', clicks_a_2_opt)\n",
    "\n",
    "# clicks_b_opt = generation(sigma2=1, beta=1000)[8] \n",
    "# clicks_b_opt = np.save('clicks_b_opt', clicks_b_opt)\n",
    "\n",
    "# bills_a_1_opt = generation(sigma2=1, beta=1000)[9] \n",
    "# bills_a_1_opt = np.save('bills_a_1_opt', bills_a_1_opt)\n",
    "\n",
    "# bills_a_2_opt = generation(sigma2=1, beta=1000)[10] \n",
    "# bills_a_2_opt = np.save('bills_a_2_opt', bills_a_2_opt)\n",
    "\n",
    "# bills_b_opt = generation(sigma2=1, beta=1000)[11] \n",
    "# bills_b_opt = np.save('bills_b_opt', bills_b_opt)"
   ]
  },
  {
   "cell_type": "code",
   "execution_count": 42,
   "id": "5c75d304",
   "metadata": {},
   "outputs": [
    {
     "data": {
      "text/plain": [
       "(2000, 5000)"
      ]
     },
     "execution_count": 42,
     "metadata": {},
     "output_type": "execute_result"
    }
   ],
   "source": [
    "np.load('views_a_1_opt.npy').shape"
   ]
  },
  {
   "cell_type": "code",
   "execution_count": 43,
   "id": "668a4491",
   "metadata": {},
   "outputs": [],
   "source": [
    "# # Генерируем и сохраняем выборки со \"скошенными\" сигма2 и бета(sigma2=0.1, beta=10)\n",
    "\n",
    "# # ЯЧЕЙКУ НЕ ЗАПУСКАЮ \n",
    "\n",
    "# views_a_1_sk = generation(sigma2=0.1, beta=10)[0]\n",
    "# views_a_1_sk = np.save('views_a_1_sk', views_a_1_sk)\n",
    "\n",
    "# views_a_2_sk = generation(sigma2=0.1, beta=10)[1]\n",
    "# views_a_2_sk = np.save('views_a_2_sk', views_a_2_sk)\n",
    "\n",
    "# views_b_sk = generation(sigma2=0.1, beta=10)[2]\n",
    "# views_b_sk = np.save('views_b_sk', views_b_sk)\n",
    "\n",
    "# success_rate_a_1_sk = generation(sigma2=0.1, beta=10)[3]\n",
    "# success_rate_a_1_sk = np.save('success_rate_a_1_sk', success_rate_a_1_sk)\n",
    "\n",
    "# success_rate_a_2_sk = generation(sigma2=0.1, beta=10)[4]\n",
    "# success_rate_a_2_sk = np.save('success_rate_a_2_sk', success_rate_a_2_sk)\n",
    "\n",
    "# success_rate_b_sk = generation(sigma2=0.1, beta=10)[5]\n",
    "# success_rate_b_sk = np.save('success_rate_b_sk', success_rate_b_sk)\n",
    "\n",
    "# clicks_a_1_sk = generation(sigma2=0.1, beta=10)[6] \n",
    "# clicks_a_1_sk = np.save('clicks_a_1_sk', clicks_a_1_sk)\n",
    "\n",
    "# clicks_a_2_sk = generation(sigma2=0.1, beta=10)[7] \n",
    "# clicks_a_2_sk = np.save('clicks_a_2_sk', clicks_a_2_sk)\n",
    "\n",
    "# clicks_b_sk = generation(sigma2=0.1, beta=10)[8] \n",
    "# clicks_b_sk = np.save('clicks_b_sk', clicks_b_sk)\n",
    "\n",
    "# bills_a_1_sk = generation(sigma2=0.1, beta=10)[9] \n",
    "# bills_a_1_sk = np.save('bills_a_1_sk', bills_a_1_sk)\n",
    "\n",
    "# bills_a_2_sk = generation(sigma2=0.1, beta=10)[10] \n",
    "# bills_a_2_sk = np.save('bills_a_2_sk', bills_a_2_sk)\n",
    "\n",
    "# bills_b_sk = generation(sigma2=0.1, beta=10)[11] \n",
    "# bills_b_sk = np.save('bills_b_sk', bills_b_sk)"
   ]
  },
  {
   "cell_type": "code",
   "execution_count": 44,
   "id": "c3f12e04",
   "metadata": {},
   "outputs": [
    {
     "data": {
      "text/plain": [
       "(2000, 5000)"
      ]
     },
     "execution_count": 44,
     "metadata": {},
     "output_type": "execute_result"
    }
   ],
   "source": [
    "np.load('bills_b_sk.npy').shape"
   ]
  },
  {
   "cell_type": "code",
   "execution_count": 45,
   "id": "9f41296a",
   "metadata": {},
   "outputs": [],
   "source": [
    "# Генерируем выборки с 80 квантилями \n",
    "b_a_1_80_opt = np.load('bills_a_1_opt.npy') \n",
    "b_a_1_80_opt[b_a_1_80_opt==0] = 'nan' \n",
    "b_a_1_80_opt = np.nanquantile(b_a_1_80_opt, 0.8, axis=1)\n",
    "\n",
    "b_a_2_80_opt = np.load('bills_a_2_opt.npy') \n",
    "b_a_2_80_opt[b_a_2_80_opt==0] = 'nan' \n",
    "b_a_2_80_opt = np.nanquantile(b_a_2_80_opt, 0.8, axis=1)\n",
    "\n",
    "b_b_80_opt = np.load('bills_b_opt.npy') \n",
    "b_b_80_opt[b_b_80_opt==0] = 'nan' \n",
    "b_b_80_opt = np.nanquantile(b_b_80_opt, 0.8, axis=1)\n",
    "\n",
    "b_a_1_80_sk = np.load('bills_a_1_sk.npy') \n",
    "b_a_1_80_sk[b_a_1_80_sk==0] = 'nan' \n",
    "b_a_1_80_sk = np.nanquantile(b_a_1_80_sk, 0.8, axis=1)\n",
    "\n",
    "b_a_2_80_sk = np.load('bills_a_2_sk.npy') \n",
    "b_a_2_80_sk[b_a_2_80_sk==0] = 'nan' \n",
    "b_a_2_80_sk = np.nanquantile(b_a_2_80_sk, 0.8, axis=1)\n",
    "\n",
    "b_b_80_sk = np.load('bills_b_sk.npy') \n",
    "b_b_80_sk[b_b_80_sk==0] = 'nan' \n",
    "b_b_80_sk = np.nanquantile(b_b_80_sk, 0.8, axis=1)\n"
   ]
  },
  {
   "cell_type": "code",
   "execution_count": 46,
   "id": "1864a661",
   "metadata": {},
   "outputs": [],
   "source": [
    "# Генерируем выборки 80 квантилей с помощью бутстрепа для дальнейших тестов\n",
    "boots_b_a_1_80_opt = np.array([np.random.choice(b_a_1_80_opt,size=len(b_a_1_80_opt),replace=True) for i in range(3000)])\n",
    "boots_b_a_1_80_sk = np.array([np.random.choice(b_a_1_80_sk,size=len(b_a_1_80_sk),replace=True) for i in range(3000)])\n",
    "boots_b_a_2_80_opt = np.array([np.random.choice(b_a_2_80_opt,size=len(b_a_2_80_opt),replace=True) for i in range(3000)])\n",
    "boots_b_a_2_80_sk = np.array([np.random.choice(b_a_2_80_sk,size=len(b_a_2_80_sk),replace=True) for i in range(3000)])\n",
    "boots_b_b_80_opt = np.array([np.random.choice(b_b_80_opt,size=len(b_b_80_opt),replace=True) for i in range(3000)])\n",
    "boots_b_b_80_sk = np.array([np.random.choice(b_b_80_sk,size=len(b_b_80_sk),replace=True) for i in range(3000)])\n"
   ]
  },
  {
   "cell_type": "code",
   "execution_count": 47,
   "id": "720d0527",
   "metadata": {},
   "outputs": [
    {
     "data": {
      "text/plain": [
       "(3000, 2000)"
      ]
     },
     "execution_count": 47,
     "metadata": {},
     "output_type": "execute_result"
    }
   ],
   "source": [
    "boots_b_b_80_sk.shape"
   ]
  },
  {
   "cell_type": "markdown",
   "id": "b8d61ea9",
   "metadata": {},
   "source": [
    "# Далее будем пытаться проанализовать 80-е квантили выборок А и B"
   ]
  },
  {
   "cell_type": "markdown",
   "id": "93451ada",
   "metadata": {},
   "source": [
    "## Пуассоновский бутстреп"
   ]
  },
  {
   "cell_type": "code",
   "execution_count": 48,
   "id": "24c3c55d",
   "metadata": {},
   "outputs": [],
   "source": [
    "def bootstrap(ctrs_0, weights_0, ctrs_1, weights_1, n_bootstrap=500):\n",
    "    \"\"\"\n",
    "    Считает взвешенный bootstrap и вычисляет p-value по распределению статистик из псевдовыборок\n",
    "    :param ctrs_0: np.array вида (n_experiments, n_users), \n",
    "        CTR каждого пользователя из контрольной группы в каждом эксперименте \n",
    "        \n",
    "    :param weights_0: np.array (n_experiments, n_users), \n",
    "        вес каждого пользователя из контрольной группы в каждом эксперименте \n",
    "        \n",
    "    :param ctrs_1: np.array (n_experiments, n_users), \n",
    "        CTR каждого пользователя из целевой группы в каждом эксперименте \n",
    "        \n",
    "    :param weights_1: np.array (n_experiments, n_users), \n",
    "        вес каждого пользователя из целевой группы в каждом эксперименте \n",
    "        \n",
    "    :param n_bootstrap: int - кол-во бутстрапированных псевдовыборок для каждого эксперимента\n",
    "    :return: np.array shape (n_experiments), двусторонние p-value\n",
    "    \"\"\"\n",
    "    poisson_bootstraps = scipy.stats.poisson(1).rvs(\n",
    "        (n_bootstrap, ctrs_0.shape[1])).astype(np.int64)\n",
    "\n",
    "    values_0 = np.matmul(ctrs_0 * weights_0, poisson_bootstraps.T)\n",
    "    weights_0 = np.matmul(weights_0, poisson_bootstraps.T)\n",
    "\n",
    "    values_1 = np.matmul(ctrs_1 * weights_1, poisson_bootstraps.T)\n",
    "    weights_1 = np.matmul(weights_1, poisson_bootstraps.T)\n",
    "\n",
    "    deltas = values_1 / weights_1 - values_0 / weights_0\n",
    "\n",
    "    positions = np.sum(deltas < 0, axis=1)\n",
    "\n",
    "    return 2 * np.minimum(positions, n_bootstrap - positions) / n_bootstrap\n"
   ]
  },
  {
   "cell_type": "code",
   "execution_count": 49,
   "id": "019d0745",
   "metadata": {},
   "outputs": [
    {
     "data": {
      "image/png": "[encoded data removed]",
      "text/plain": [
       "<Figure size 300x300 with 1 Axes>"
      ]
     },
     "metadata": {
      "needs_background": "light"
     },
     "output_type": "display_data"
    }
   ],
   "source": [
    "# Выборка а_1 и a_2 \n",
    "p_values = bootstrap(boots_b_a_1_80_opt, boots_b_a_1_80_sk, \n",
    "                     boots_b_a_2_80_opt, boots_b_a_2_80_sk)\n",
    "fig, ax = plt.subplots(figsize=(3, 3), dpi = 100)\n",
    "gr = ax.grid(True)\n",
    "xlim = ax.set_xlim(-0.05,1.02)\n",
    "ylim = ax.set_ylim(-0.02,1.02)\n",
    "ax.axvline(0.05, color='k', alpha=0.5)\n",
    "ax.set_xlabel(r'$\\alpha$')\n",
    "ax.set_ylabel('Sensitivity')\n",
    "cdf = plot_cdf(p_values,'pois boot A1 A2',ax)\n",
    "legend = ax.legend()"
   ]
  },
  {
   "cell_type": "code",
   "execution_count": 50,
   "id": "6a018f86",
   "metadata": {},
   "outputs": [
    {
     "data": {
      "image/png": "[encoded data removed]",
      "text/plain": [
       "<Figure size 300x300 with 1 Axes>"
      ]
     },
     "metadata": {
      "needs_background": "light"
     },
     "output_type": "display_data"
    }
   ],
   "source": [
    "# Выборка а_1 и a_2, сравним оптимальные и \"скошенные\" выборки\n",
    "p_values = bootstrap(boots_b_a_1_80_opt, boots_b_a_2_80_opt, \n",
    "                     boots_b_a_1_80_sk, boots_b_a_2_80_sk)\n",
    "fig, ax = plt.subplots(figsize=(3, 3), dpi = 100)\n",
    "gr = ax.grid(True)\n",
    "xlim = ax.set_xlim(-0.05,1.02)\n",
    "ylim = ax.set_ylim(-0.02,1.02)\n",
    "ax.axvline(0.05, color='k', alpha=0.5)\n",
    "ax.set_xlabel(r'$\\alpha$')\n",
    "ax.set_ylabel('Sensitivity')\n",
    "cdf = plot_cdf(p_values,'pois boot A1 A2 opt/sk',ax)\n",
    "legend = ax.legend()"
   ]
  },
  {
   "cell_type": "code",
   "execution_count": 51,
   "id": "f327c921",
   "metadata": {},
   "outputs": [
    {
     "data": {
      "image/png": "[encoded data removed]",
      "text/plain": [
       "<Figure size 300x300 with 1 Axes>"
      ]
     },
     "metadata": {
      "needs_background": "light"
     },
     "output_type": "display_data"
    }
   ],
   "source": [
    "# Выборка а_1 и b\n",
    "p_values = bootstrap(boots_b_a_1_80_opt, boots_b_a_1_80_sk, \n",
    "                     boots_b_b_80_opt, boots_b_b_80_sk)\n",
    "fig, ax = plt.subplots(figsize=(3, 3), dpi = 100)\n",
    "gr = ax.grid(True)\n",
    "xlim = ax.set_xlim(-0.05,1.02)\n",
    "ylim = ax.set_ylim(-0.02,1.02)\n",
    "ax.axvline(0.05, color='k', alpha=0.5)\n",
    "ax.set_xlabel(r'$\\alpha$')\n",
    "ax.set_ylabel('Sensitivity')\n",
    "cdf = plot_cdf(p_values,'pois boot AB',ax)\n",
    "legend = ax.legend()"
   ]
  },
  {
   "cell_type": "markdown",
   "id": "210e7b14",
   "metadata": {},
   "source": [
    "## Тест Манна-Уитни поверх бакетного преобразования "
   ]
  },
  {
   "cell_type": "code",
   "execution_count": 52,
   "id": "14af1343",
   "metadata": {},
   "outputs": [],
   "source": [
    "def bucketization(ctrs_0, weights_0, ctrs_1, weights_1, n_buckets=10):\n",
    "    \"\"\"\n",
    "    Разбиваем на бакеты с весами\n",
    "    :param ctrs_0: np.array shape (n_experiments, n_users), CTRs of every user from control group in every experiment\n",
    "    :param weights_0: np.array (n_experiments, n_users), веса пользователей в контрольной группе\n",
    "    :param ctrs_1: np.array (n_experiments, n_users), CTRs of every user from treatment group in every experiment\n",
    "    :param weights_1: np.array (n_experiments, n_users), веса пользователей в целевой группе\n",
    "    :param n_buckets: int, кол-во бакетов\n",
    "    :return: np.array shape (n_experiments), средневзвешенные метрики в каждом бакете\n",
    "    \"\"\"\n",
    "\n",
    "    n_experiments, n_users = ctrs_0.shape\n",
    "\n",
    "    values_0 = np.zeros((n_experiments, n_buckets))\n",
    "    values_1 = np.zeros((n_experiments, n_buckets))\n",
    "\n",
    "    for b in np.arange(n_buckets):\n",
    "        ind = np.arange(b * n_users / n_buckets, b * n_users / n_buckets + n_users / n_buckets).astype(np.int32)\n",
    "        values_0[:, b] = np.sum(ctrs_0[:, ind] * weights_0[:, ind], axis=1) / np.sum(weights_0[:, ind], axis=1)\n",
    "        values_1[:, b] = np.sum(ctrs_1[:, ind] * weights_1[:, ind], axis=1) / np.sum(weights_1[:, ind], axis=1)\n",
    "\n",
    "    return values_0, values_1\n"
   ]
  },
  {
   "cell_type": "code",
   "execution_count": 53,
   "id": "494c9b8e",
   "metadata": {},
   "outputs": [],
   "source": [
    "def mannwhitney(a, b):\n",
    "    \"\"\"\n",
    "    Двусторонний тест Манна-Уитни\n",
    "    :param a: np.array вида (n_experiments, n_users), значения метрики в контроле\n",
    "    :param b: np.array вида (n_experiments, n_users), значен я метрики в тесте\n",
    "    :return: np.array вида (n_experiments), двусторонние p-value методом Манна-Уитни для всех экспериментов\n",
    "    \"\"\"\n",
    "    result = list(map(lambda x: scipy.stats.mannwhitneyu(\n",
    "        x[0], x[1], alternative='two-sided').pvalue, zip(a, b)))\n",
    "    return np.array(result)"
   ]
  },
  {
   "cell_type": "code",
   "execution_count": 54,
   "id": "a203137e",
   "metadata": {},
   "outputs": [],
   "source": [
    "# тест Манна-Уитни поверх бакетов\n",
    "def mannwhitney_buckets(ctrs_0, weights_0, ctrs_1, weights_1, n_buckets=100):\n",
    "    return mannwhitney(*bucketization(ctrs_0, weights_0, ctrs_1, weights_1, n_buckets))\n"
   ]
  },
  {
   "cell_type": "code",
   "execution_count": 55,
   "id": "bcd4642c",
   "metadata": {},
   "outputs": [
    {
     "data": {
      "text/plain": [
       "array([1.71916838e-08, 7.62786172e-13, 9.25495765e-11, ...,\n",
       "       2.83115697e-09, 2.56801675e-05, 1.95037030e-06])"
      ]
     },
     "execution_count": 55,
     "metadata": {},
     "output_type": "execute_result"
    }
   ],
   "source": [
    "mannwhitney_buckets(boots_b_a_1_80_opt, boots_b_a_1_80_sk, \n",
    "                     boots_b_b_80_opt, boots_b_b_80_sk)"
   ]
  },
  {
   "cell_type": "code",
   "execution_count": 56,
   "id": "904ba3fe",
   "metadata": {},
   "outputs": [
    {
     "data": {
      "image/png": "[encoded data removed]",
      "text/plain": [
       "<Figure size 300x300 with 1 Axes>"
      ]
     },
     "metadata": {
      "needs_background": "light"
     },
     "output_type": "display_data"
    }
   ],
   "source": [
    "# Выборка а_2 и b\n",
    "p_values = mannwhitney_buckets(boots_b_a_2_80_opt, boots_b_a_2_80_sk, \n",
    "                     boots_b_b_80_opt, boots_b_b_80_sk)\n",
    "fig, ax = plt.subplots(figsize=(3, 3), dpi = 100)\n",
    "gr = ax.grid(True)\n",
    "xlim = ax.set_xlim(-0.05,1.02)\n",
    "ylim = ax.set_ylim(-0.02,1.02)\n",
    "ax.axvline(0.05, color='k', alpha=0.5)\n",
    "ax.set_xlabel(r'$\\alpha$')\n",
    "ax.set_ylabel('Sensitivity')\n",
    "cdf = plot_cdf(p_values,'mannwhitney_buckets AB',ax)\n",
    "legend = ax.legend()"
   ]
  },
  {
   "cell_type": "code",
   "execution_count": 57,
   "id": "72a7b2bf",
   "metadata": {},
   "outputs": [
    {
     "data": {
      "image/png": "[encoded data removed]",
      "text/plain": [
       "<Figure size 300x300 with 1 Axes>"
      ]
     },
     "metadata": {
      "needs_background": "light"
     },
     "output_type": "display_data"
    }
   ],
   "source": [
    "# Выборка а_1 и a_2\n",
    "p_values = mannwhitney_buckets(boots_b_a_1_80_opt, boots_b_a_1_80_sk, \n",
    "                     boots_b_a_2_80_opt, boots_b_a_2_80_sk)\n",
    "fig, ax = plt.subplots(figsize=(3, 3), dpi = 100)\n",
    "gr = ax.grid(True)\n",
    "xlim = ax.set_xlim(-0.05,1.02)\n",
    "ylim = ax.set_ylim(-0.02,1.02)\n",
    "ax.axvline(0.05, color='k', alpha=0.5)\n",
    "ax.set_xlabel(r'$\\alpha$')\n",
    "ax.set_ylabel('Sensitivity')\n",
    "cdf = plot_cdf(p_values,'mannwhitney_buckets A1 A2',ax)\n",
    "legend = ax.legend()"
   ]
  },
  {
   "cell_type": "code",
   "execution_count": 58,
   "id": "b8ec609f",
   "metadata": {},
   "outputs": [
    {
     "data": {
      "image/png": "[encoded data removed]",
      "text/plain": [
       "<Figure size 300x300 with 1 Axes>"
      ]
     },
     "metadata": {
      "needs_background": "light"
     },
     "output_type": "display_data"
    }
   ],
   "source": [
    "# Выборка а_1 и a_2 - сравниваем оптимальные и скошенные выборки\n",
    "p_values = mannwhitney_buckets(boots_b_a_1_80_opt, boots_b_a_2_80_opt, \n",
    "                     boots_b_a_1_80_sk, boots_b_a_2_80_sk)\n",
    "fig, ax = plt.subplots(figsize=(3, 3), dpi = 100)\n",
    "gr = ax.grid(True)\n",
    "xlim = ax.set_xlim(-0.05,1.02)\n",
    "ylim = ax.set_ylim(-0.02,1.02)\n",
    "ax.axvline(0.05, color='k', alpha=0.5)\n",
    "ax.set_xlabel(r'$\\alpha$')\n",
    "ax.set_ylabel('Sensitivity')\n",
    "cdf = plot_cdf(p_values,'mannwhitney_buckets AA opt/sk',ax)\n",
    "legend = ax.legend()"
   ]
  },
  {
   "cell_type": "markdown",
   "id": "3ff8546c",
   "metadata": {},
   "source": [
    "Графики выглядят практически идентично, попробуем протестировать различия в квантилях немного по-другому"
   ]
  },
  {
   "cell_type": "code",
   "execution_count": 59,
   "id": "c70d38ef",
   "metadata": {},
   "outputs": [
    {
     "data": {
      "text/plain": [
       "Text(0.5, 1.0, 'Sample A2 Boxplot opt/sk')"
      ]
     },
     "execution_count": 59,
     "metadata": {},
     "output_type": "execute_result"
    },
    {
     "data": {
      "image/png": "[encoded data removed]",
      "text/plain": [
       "<Figure size 842.4x595.44 with 3 Axes>"
      ]
     },
     "metadata": {
      "needs_background": "light"
     },
     "output_type": "display_data"
    }
   ],
   "source": [
    "# Нарисуем Boxplot 80-х квантилей выборок\n",
    "import seaborn as sns\n",
    "f, axes = plt.subplots(1, 3, figsize=(11.7, 8.27))\n",
    "sns.boxplot(data=[b_b_80_opt, b_b_80_sk], ax=axes[0])\n",
    "axes[0].set_title(\"Sample B Boxplot opt/sk\")\n",
    "sns.boxplot(data=[b_a_1_80_opt, b_a_1_80_sk], ax=axes[1])\n",
    "axes[1].set_title(\"Sample A1 Boxplot opt/sk\")\n",
    "sns.boxplot(data=[b_a_2_80_opt, b_a_2_80_sk], ax=axes[2])\n",
    "axes[2].set_title(\"Sample A2 Boxplot opt/sk\")"
   ]
  },
  {
   "cell_type": "code",
   "execution_count": 60,
   "id": "a56d0d13",
   "metadata": {},
   "outputs": [
    {
     "name": "stdout",
     "output_type": "stream",
     "text": [
      "ДИ 80 кв. оптимальной и скош. выборок группы B:\n",
      " (343.47357688446704, 365.961514731141) (329.5375948316481, 351.9389797745351)\n",
      "ДИ 80 кв. оптимальной и скош. выборок группы A1:\n",
      " (301.1140661918187, 318.7121578220442) (301.301778662674, 319.3011303193682)\n",
      "ДИ 80 кв. оптимальной и скош. выборок группы A2:\n",
      " (300.0897876361056, 318.35022566917445) (300.69654464052235, 319.3501145972403)\n"
     ]
    }
   ],
   "source": [
    "# Посмотрим на дов. интервалы\n",
    "def bootstrap_1(data, n=1000, func=np.mean):\n",
    "    simulations = list()\n",
    "    sample_size = len(data)\n",
    "    xbar_init = np.mean(data)\n",
    "    for c in range(n):\n",
    "        itersample = np.random.choice(data, size=sample_size, replace=True)\n",
    "        simulations.append(func(itersample))\n",
    "    simulations.sort()\n",
    "    def ci(p):\n",
    "        \"\"\"\n",
    "        Return 2-sided symmetric confidence interval specified\n",
    "        by p.\n",
    "        \"\"\"\n",
    "        u_pval = (1+p)/2.\n",
    "        l_pval = (1-u_pval)\n",
    "        l_indx = int(np.floor(n*l_pval))\n",
    "        u_indx = int(np.floor(n*u_pval))\n",
    "        return(simulations[l_indx],simulations[u_indx])\n",
    "    return(ci(0.95))\n",
    "   \n",
    "print('ДИ 80 кв. оптимальной и скош. выборок группы B:\\n', bootstrap_1(b_b_80_opt), bootstrap_1(b_b_80_sk))\n",
    "print('ДИ 80 кв. оптимальной и скош. выборок группы A1:\\n', bootstrap_1(b_a_1_80_opt), bootstrap_1(b_a_1_80_opt))\n",
    "print('ДИ 80 кв. оптимальной и скош. выборок группы A2:\\n', bootstrap_1(b_a_2_80_opt), bootstrap_1(b_a_2_80_opt))"
   ]
  },
  {
   "cell_type": "markdown",
   "id": "9b9bc482",
   "metadata": {},
   "source": [
    "## Бутстреп для сравнения 80-х квантилей "
   ]
  },
  {
   "cell_type": "code",
   "execution_count": 61,
   "id": "02b7406a",
   "metadata": {},
   "outputs": [
    {
     "data": {
      "image/png": "[encoded data removed]",
      "text/plain": [
       "<Figure size 842.4x595.44 with 3 Axes>"
      ]
     },
     "metadata": {},
     "output_type": "display_data"
    }
   ],
   "source": [
    "\"\"\"\n",
    "Сгенерируем гистограммы для распределений средних значений \n",
    "в выборках a_1, a_2 и b (5000 bootstrap resamplings).\n",
    "\"\"\"\n",
    "\n",
    "import seaborn as sns\n",
    "sns.set(style=\"darkgrid\")\n",
    "\n",
    "v = b_b_80_sk\n",
    "v1 = b_b_80_opt\n",
    "xbar_init = np.round(np.mean(v), 2)\n",
    "xbar_init1 = np.round(np.mean(v1), 2)\n",
    "# generate 5000 resampled sample means \n",
    "means = [np.mean(np.random.choice(v,size=len(v),replace=True)) for i in range(5000)]\n",
    "means1 = [np.mean(np.random.choice(v1,size=len(v1),replace=True)) for i in range(5000)]\n",
    "data = pd.DataFrame([means, means1]).T\n",
    "\n",
    "v2 = b_a_1_80_sk\n",
    "v3 = b_a_1_80_opt\n",
    "xbar_init2 = np.round(np.mean(v2), 2)\n",
    "xbar_init3 = np.round(np.mean(v3), 2)\n",
    "# generate 5000 resampled sample means \n",
    "means2 = [np.mean(np.random.choice(v2,size=len(v2),replace=True)) for i in range(5000)]\n",
    "means3 = [np.mean(np.random.choice(v3,size=len(v3),replace=True)) for i in range(5000)]\n",
    "data1 = pd.DataFrame([means2, means3]).T\n",
    "\n",
    "v4 = b_a_2_80_sk\n",
    "v5 = b_a_2_80_opt\n",
    "xbar_init3 = np.round(np.mean(v4), 2)\n",
    "xbar_init4 = np.round(np.mean(v5), 2)\n",
    "# generate 5000 resampled sample means \n",
    "means4 = [np.mean(np.random.choice(v4,size=len(v4),replace=True)) for i in range(5000)]\n",
    "means5 = [np.mean(np.random.choice(v5,size=len(v5),replace=True)) for i in range(5000)]\n",
    "data2 = pd.DataFrame([means4, means5]).T\n",
    "\n",
    "f, axes = plt.subplots(1, 3, figsize=(11.7, 8.27))\n",
    "sns.histplot(data, color='r', label=\"Sample B 80Q Mean\", kde=True, ax=axes[0])\n",
    "axes[0].set_title(\"Sample B 80Q Mean\")\n",
    "sns.histplot(data1, color='r', label=\"Sample A_1 80Q Mean\", kde=True, ax=axes[1])\n",
    "axes[1].set_title(\"Sample A_1 80Q Mean\")\n",
    "sns.histplot(data2, color='r', label=\"Sample A_2 80Q Mean\", kde=True, ax=axes[2])\n",
    "axes[2].set_title(\"Sample A_2 80Q Mean\")\n",
    "\n",
    "plt.show()"
   ]
  },
  {
   "cell_type": "markdown",
   "id": "4a5d0f17",
   "metadata": {},
   "source": [
    "## Bootstrap p_values "
   ]
  },
  {
   "cell_type": "code",
   "execution_count": 62,
   "id": "a13bb3b7",
   "metadata": {},
   "outputs": [],
   "source": [
    "def boot_matrix(z, B):\n",
    "    n = len(z)  # sample size\n",
    "    idz = np.random.randint(0, n, size=(B, n))  # indices to pick for all boostrap samples\n",
    "    return z[idz]\n",
    "def bootstrap_t_pvalue(x, y, equal_var=False, B=10000, plot=False):\n",
    "    \"\"\"Bootstrap p values for two-sample t test\n",
    "    \n",
    "    Returns boostrap p value, test statistics and parametric p value\"\"\"\n",
    "    \n",
    "    # Original t test statistic\n",
    "    orig = stats.ttest_ind(x, y, equal_var=equal_var)\n",
    "    \n",
    "    # Generate boostrap distribution of t statistic\n",
    "    xboot = boot_matrix(x - x.mean(), B=B) # important centering step to get sampling distribution under the null\n",
    "    yboot = boot_matrix(y - y.mean(), B=B)\n",
    "    sampling_distribution = stats.ttest_ind(xboot, yboot, axis=1, equal_var=equal_var)[0]\n",
    "    \n",
    "    # Calculate proportion of bootstrap samples with at least as strong evidence against null    \n",
    "    p = np.mean(sampling_distribution >= orig[0])\n",
    "    \n",
    "    # RESULTS\n",
    "   \n",
    "   # print(\"p value for null hypothesis of equal population means:\")\n",
    "   # print(\"Parametric:\", orig[1])\n",
    "   # print(\"Bootstrap:\", 2*min(p, 1-p))\n",
    "    \n",
    "    # Plot bootstrap distribution\n",
    "    if plot:\n",
    "        plt.figure()\n",
    "        plt.hist(sampling_distribution, bins=\"fd\")\n",
    "        plt.text(1.5, 450, f'Parametric p_v:{round(orig[1], 3)}\\n Bootstrap p_v: {round(2*min(p, 1-p), 3)}', fontsize = 12)\n",
    "    #return stats.ttest_ind(xboot, yboot, axis=1, equal_var=equal_var)[1]\n"
   ]
  },
  {
   "cell_type": "code",
   "execution_count": 63,
   "id": "f43cea0e",
   "metadata": {},
   "outputs": [
    {
     "data": {
      "image/png": "[encoded data removed]",
      "text/plain": [
       "<Figure size 432x288 with 1 Axes>"
      ]
     },
     "metadata": {},
     "output_type": "display_data"
    }
   ],
   "source": [
    "# Группа А1: 80-е квантили оптимальной и \"скошенной\" выборок\n",
    "bootstrap_t_pvalue(b_a_1_80_opt, b_a_1_80_sk, plot=True)"
   ]
  },
  {
   "cell_type": "code",
   "execution_count": 64,
   "id": "7fecedcd",
   "metadata": {},
   "outputs": [
    {
     "data": {
      "image/png": "[encoded data removed]",
      "text/plain": [
       "<Figure size 432x288 with 1 Axes>"
      ]
     },
     "metadata": {},
     "output_type": "display_data"
    }
   ],
   "source": [
    "# Группа А2: 80-е квантили оптимальной и \"скошенной\" выборок\n",
    "bootstrap_t_pvalue(b_a_2_80_opt, b_a_2_80_sk, plot=True)"
   ]
  },
  {
   "cell_type": "code",
   "execution_count": 65,
   "id": "4f9f231c",
   "metadata": {},
   "outputs": [
    {
     "data": {
      "image/png": "[encoded data removed]",
      "text/plain": [
       "<Figure size 432x288 with 1 Axes>"
      ]
     },
     "metadata": {},
     "output_type": "display_data"
    }
   ],
   "source": [
    "# Группа B: 80-е квантили оптимальной и \"скошенной\" выборок\n",
    "bootstrap_t_pvalue(b_b_80_opt, b_b_80_sk, plot=True)"
   ]
  },
  {
   "cell_type": "code",
   "execution_count": 66,
   "id": "9dad76b7",
   "metadata": {},
   "outputs": [
    {
     "data": {
      "image/png": "[encoded data removed]",
      "text/plain": [
       "<Figure size 432x288 with 1 Axes>"
      ]
     },
     "metadata": {},
     "output_type": "display_data"
    }
   ],
   "source": [
    "# Группы А1 и А2 B: 80-е квантили оптимальных выборок\n",
    "bootstrap_t_pvalue(b_a_1_80_opt, b_a_2_80_opt, plot=True)"
   ]
  },
  {
   "cell_type": "code",
   "execution_count": 67,
   "id": "8f8a1826",
   "metadata": {},
   "outputs": [
    {
     "data": {
      "image/png": "[encoded data removed]",
      "text/plain": [
       "<Figure size 432x288 with 1 Axes>"
      ]
     },
     "metadata": {},
     "output_type": "display_data"
    }
   ],
   "source": [
    "# Группы А1 и А2 B: 80-е квантили \"скошенных\" выборок\n",
    "bootstrap_t_pvalue(b_a_1_80_sk, b_a_2_80_sk, plot=True)"
   ]
  },
  {
   "cell_type": "markdown",
   "id": "9128a173",
   "metadata": {},
   "source": [
    "### Наблюдения:\n",
    "Наиболее значимые отличия в распределении значений 80 квантиля наблюдаются между \"скошенными\" выборками групп А1 и А2. <br>\n",
    "P_value в районе 5% также наблюдается при сравнении значений 80 квантиля между оптимальной и \"скошенной\" выборками группы A2. \n",
    "\n"
   ]
  },
  {
   "cell_type": "code",
   "execution_count": null,
   "id": "28b4c8d7",
   "metadata": {},
   "outputs": [],
   "source": []
  }
 ],
 "metadata": {
  "kernelspec": {
   "display_name": "Python 3 (ipykernel)",
   "language": "python",
   "name": "python3"
  },
  "language_info": {
   "codemirror_mode": {
    "name": "ipython",
    "version": 3
   },
   "file_extension": ".py",
   "mimetype": "text/x-python",
   "name": "python",
   "nbconvert_exporter": "python",
   "pygments_lexer": "ipython3",
   "version": "3.9.12"
  }
 },
 "nbformat": 4,
 "nbformat_minor": 5
}
